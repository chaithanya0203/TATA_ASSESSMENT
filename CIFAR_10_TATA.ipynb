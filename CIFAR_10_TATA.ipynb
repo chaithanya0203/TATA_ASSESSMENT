{
  "nbformat": 4,
  "nbformat_minor": 0,
  "metadata": {
    "colab": {
      "provenance": [],
      "toc_visible": true,
      "gpuType": "T4"
    },
    "kernelspec": {
      "name": "python3",
      "display_name": "Python 3"
    },
    "language_info": {
      "name": "python"
    },
    "accelerator": "GPU"
  },
  "cells": [
    {
      "cell_type": "code",
      "execution_count": 1,
      "metadata": {
        "colab": {
          "base_uri": "https://localhost:8080/"
        },
        "id": "9PsIoiOiYNLa",
        "outputId": "2045b907-c098-4d98-d4e8-e2d0c39cff4b"
      },
      "outputs": [
        {
          "output_type": "stream",
          "name": "stdout",
          "text": [
            "Mounted at /content/drive\n"
          ]
        }
      ],
      "source": [
        "from google.colab import drive\n",
        "drive.mount('/content/drive')\n"
      ]
    },
    {
      "cell_type": "code",
      "source": [
        "%cd /content/drive/MyDrive/\n"
      ],
      "metadata": {
        "colab": {
          "base_uri": "https://localhost:8080/"
        },
        "id": "_Wq8aDr0YTSE",
        "outputId": "6281ee00-bfd0-4a5f-f303-ac109af7adfa"
      },
      "execution_count": 2,
      "outputs": [
        {
          "output_type": "stream",
          "name": "stdout",
          "text": [
            "/content/drive/MyDrive\n"
          ]
        }
      ]
    },
    {
      "cell_type": "code",
      "source": [
        "!wget https://www.cs.toronto.edu/~kriz/cifar-10-python.tar.gz\n"
      ],
      "metadata": {
        "colab": {
          "base_uri": "https://localhost:8080/"
        },
        "id": "uPf79nGLYqMa",
        "outputId": "040bc3a2-0228-4575-f586-f916f568ffb8"
      },
      "execution_count": 3,
      "outputs": [
        {
          "output_type": "stream",
          "name": "stdout",
          "text": [
            "--2025-02-02 04:37:58--  https://www.cs.toronto.edu/~kriz/cifar-10-python.tar.gz\n",
            "Resolving www.cs.toronto.edu (www.cs.toronto.edu)... 128.100.3.30\n",
            "Connecting to www.cs.toronto.edu (www.cs.toronto.edu)|128.100.3.30|:443... connected.\n",
            "HTTP request sent, awaiting response... 200 OK\n",
            "Length: 170498071 (163M) [application/x-gzip]\n",
            "Saving to: ‘cifar-10-python.tar.gz.2’\n",
            "\n",
            "cifar-10-python.tar 100%[===================>] 162.60M  45.7MB/s    in 4.0s    \n",
            "\n",
            "2025-02-02 04:38:03 (40.5 MB/s) - ‘cifar-10-python.tar.gz.2’ saved [170498071/170498071]\n",
            "\n"
          ]
        }
      ]
    },
    {
      "cell_type": "code",
      "source": [
        "!tar -xvzf cifar-10-python.tar.gz\n"
      ],
      "metadata": {
        "colab": {
          "base_uri": "https://localhost:8080/"
        },
        "id": "cM9kyPt0Yxll",
        "outputId": "b4418de6-1294-452a-d9ac-d73fc4c39f68"
      },
      "execution_count": 4,
      "outputs": [
        {
          "output_type": "stream",
          "name": "stdout",
          "text": [
            "cifar-10-batches-py/\n",
            "cifar-10-batches-py/data_batch_4\n",
            "cifar-10-batches-py/readme.html\n",
            "cifar-10-batches-py/test_batch\n",
            "cifar-10-batches-py/data_batch_3\n",
            "cifar-10-batches-py/batches.meta\n",
            "cifar-10-batches-py/data_batch_2\n",
            "cifar-10-batches-py/data_batch_5\n",
            "cifar-10-batches-py/data_batch_1\n"
          ]
        }
      ]
    },
    {
      "cell_type": "code",
      "source": [
        "!ls cifar-10-batches-py\n"
      ],
      "metadata": {
        "colab": {
          "base_uri": "https://localhost:8080/"
        },
        "id": "fEToZBGZY1Cb",
        "outputId": "f17c4c00-ee2b-44d4-982d-2377bbb39d9b"
      },
      "execution_count": 5,
      "outputs": [
        {
          "output_type": "stream",
          "name": "stdout",
          "text": [
            "batches.meta  data_batch_2  data_batch_4  readme.html\n",
            "data_batch_1  data_batch_3  data_batch_5  test_batch\n"
          ]
        }
      ]
    },
    {
      "cell_type": "code",
      "source": [
        "import torch\n",
        "import torch.nn as nn\n",
        "import torch.optim as optim\n",
        "import torchvision\n",
        "import torchvision.transforms as transforms\n",
        "from torch.utils.data import random_split, DataLoader\n",
        "import wandb\n",
        "import numpy as np\n",
        "from tqdm import tqdm\n",
        "import os\n",
        "import pickle\n",
        "import subprocess"
      ],
      "metadata": {
        "id": "agz5l8xwipHy"
      },
      "execution_count": null,
      "outputs": []
    },
    {
      "cell_type": "code",
      "source": [
        "# Set random seed for reproducibility\n",
        "torch.manual_seed(42)\n",
        "device = torch.device(\"cuda\" if torch.cuda.is_available() else \"cpu\")\n",
        "\n",
        "# Hyperparameters\n",
        "BATCH_SIZE = 128\n",
        "LEARNING_RATE = 0.001\n",
        "EPOCHS = 100\n",
        "NUM_CLASSES = 10"
      ],
      "metadata": {
        "id": "ih1KBfWeiriJ"
      },
      "execution_count": null,
      "outputs": []
    },
    {
      "cell_type": "code",
      "source": [
        "def download_and_extract_cifar10():\n",
        "    # Download CIFAR-10 if not already downloaded\n",
        "    if not os.path.exists('cifar-10-batches-py'):\n",
        "        print(\"Downloading CIFAR-10 dataset...\")\n",
        "        subprocess.run(['wget', 'https://www.cs.toronto.edu/~kriz/cifar-10-python.tar.gz'])\n",
        "        print(\"Extracting CIFAR-10 dataset...\")\n",
        "        subprocess.run(['tar', '-xzf', 'cifar-10-python.tar.gz'])\n",
        "        subprocess.run(['rm', 'cifar-10-python.tar.gz'])  # Clean up tar file"
      ],
      "metadata": {
        "id": "CVoGJXdGit2-"
      },
      "execution_count": null,
      "outputs": []
    },
    {
      "cell_type": "code",
      "source": [
        "\n",
        "def load_batch(file_path):\n",
        "    with open(file_path, 'rb') as f:\n",
        "        batch = pickle.load(f, encoding='bytes')\n",
        "    data = batch[b'data'].reshape(-1, 3, 32, 32)\n",
        "    labels = batch[b'labels']\n",
        "    return data, labels"
      ],
      "metadata": {
        "id": "Nbjk0U-AiwP8"
      },
      "execution_count": null,
      "outputs": []
    },
    {
      "cell_type": "code",
      "source": [
        "def load_cifar10():\n",
        "    download_and_extract_cifar10()\n",
        "\n",
        "    # Load training data\n",
        "    train_data = []\n",
        "    train_labels = []\n",
        "    for i in range(1, 6):\n",
        "        file_path = f'cifar-10-batches-py/data_batch_{i}'\n",
        "        data, labels = load_batch(file_path)\n",
        "        train_data.append(data)\n",
        "        train_labels.extend(labels)\n",
        "\n",
        "    train_data = np.concatenate(train_data)\n",
        "    train_labels = np.array(train_labels)\n",
        "\n",
        "    # Load test data\n",
        "    test_data, test_labels = load_batch('cifar-10-batches-py/test_batch')\n",
        "\n",
        "    return (train_data, train_labels), (test_data, np.array(test_labels))"
      ],
      "metadata": {
        "id": "qCDLNSxaizHk"
      },
      "execution_count": null,
      "outputs": []
    },
    {
      "cell_type": "code",
      "source": [
        "class CIFAR10Dataset(torch.utils.data.Dataset):\n",
        "    def __init__(self, data, labels, transform=None):\n",
        "        self.data = torch.FloatTensor(data)\n",
        "        self.labels = torch.LongTensor(labels)\n",
        "        self.transform = transform\n",
        "\n",
        "    def __len__(self):\n",
        "        return len(self.labels)\n",
        "\n",
        "    def __getitem__(self, idx):\n",
        "        image = self.data[idx] / 255.0  # Normalize to [0, 1]\n",
        "        if self.transform:\n",
        "            image = self.transform(image)\n",
        "        return image, self.labels[idx]"
      ],
      "metadata": {
        "id": "tto_eZfwi3WS"
      },
      "execution_count": null,
      "outputs": []
    },
    {
      "cell_type": "code",
      "source": [
        "# Data augmentation and normalization\n",
        "transform_train = transforms.Compose([\n",
        "    transforms.RandomCrop(32, padding=4),\n",
        "    transforms.RandomHorizontalFlip(),\n",
        "    transforms.Normalize((0.4914, 0.4822, 0.4465), (0.2023, 0.1994, 0.2010))\n",
        "])\n",
        "\n",
        "transform_test = transforms.Compose([\n",
        "    transforms.Normalize((0.4914, 0.4822, 0.4465), (0.2023, 0.1994, 0.2010))\n",
        "])\n"
      ],
      "metadata": {
        "id": "TiVCyVizi8Tf"
      },
      "execution_count": null,
      "outputs": []
    },
    {
      "cell_type": "code",
      "source": [
        "# Load CIFAR-10 dataset\n",
        "(train_data, train_labels), (test_data, test_labels) = load_cifar10()"
      ],
      "metadata": {
        "id": "hMrp6Gf7i-0d"
      },
      "execution_count": null,
      "outputs": []
    },
    {
      "cell_type": "code",
      "source": [
        "# Create datasets\n",
        "full_train_dataset = CIFAR10Dataset(train_data, train_labels, transform_train)\n",
        "test_dataset = CIFAR10Dataset(test_data, test_labels, transform_test)"
      ],
      "metadata": {
        "id": "X5kv8jrmjBLg"
      },
      "execution_count": null,
      "outputs": []
    },
    {
      "cell_type": "code",
      "source": [
        "# Split training data into train and validation sets\n",
        "train_size = int(0.8 * len(full_train_dataset))\n",
        "val_size = len(full_train_dataset) - train_size\n",
        "train_dataset, val_dataset = random_split(full_train_dataset, [train_size, val_size])\n",
        "\n",
        "# Create data loaders\n",
        "train_loader = DataLoader(train_dataset, batch_size=BATCH_SIZE, shuffle=True, num_workers=2)\n",
        "val_loader = DataLoader(val_dataset, batch_size=BATCH_SIZE, shuffle=False, num_workers=2)\n",
        "test_loader = DataLoader(test_dataset, batch_size=BATCH_SIZE, shuffle=False, num_workers=2)"
      ],
      "metadata": {
        "id": "gR_JiBWujEWE"
      },
      "execution_count": null,
      "outputs": []
    },
    {
      "cell_type": "code",
      "source": [
        "\n",
        "\n",
        "class ResidualBlock(nn.Module):\n",
        "    def __init__(self, in_channels, out_channels, stride=1):\n",
        "        super(ResidualBlock, self).__init__()\n",
        "        self.conv1 = nn.Conv2d(in_channels, out_channels, kernel_size=3,\n",
        "                              stride=stride, padding=1, bias=False)\n",
        "        self.bn1 = nn.BatchNorm2d(out_channels)\n",
        "        self.conv2 = nn.Conv2d(out_channels, out_channels, kernel_size=3,\n",
        "                              stride=1, padding=1, bias=False)\n",
        "        self.bn2 = nn.BatchNorm2d(out_channels)\n",
        "\n",
        "        self.shortcut = nn.Sequential()\n",
        "        if stride != 1 or in_channels != out_channels:\n",
        "            self.shortcut = nn.Sequential(\n",
        "                nn.Conv2d(in_channels, out_channels, kernel_size=1,\n",
        "                         stride=stride, bias=False),\n",
        "                nn.BatchNorm2d(out_channels)\n",
        "            )\n",
        "\n",
        "    def forward(self, x):\n",
        "        out = torch.relu(self.bn1(self.conv1(x)))\n",
        "        out = self.bn2(self.conv2(out))\n",
        "        out += self.shortcut(x)\n",
        "        out = torch.relu(out)\n",
        "        return out"
      ],
      "metadata": {
        "id": "fXg1qgW5jHam"
      },
      "execution_count": null,
      "outputs": []
    },
    {
      "cell_type": "code",
      "source": [
        "class CIFAR10CNN(nn.Module):\n",
        "    def __init__(self, num_classes=10):\n",
        "        super(CIFAR10CNN, self).__init__()\n",
        "        self.in_channels = 64\n",
        "\n",
        "        self.conv1 = nn.Conv2d(3, 64, kernel_size=3, stride=1, padding=1, bias=False)\n",
        "        self.bn1 = nn.BatchNorm2d(64)\n",
        "\n",
        "        self.layer1 = self.make_layer(64, 2, stride=1)\n",
        "        self.layer2 = self.make_layer(128, 2, stride=2)\n",
        "        self.layer3 = self.make_layer(256, 2, stride=2)\n",
        "\n",
        "        self.avg_pool = nn.AdaptiveAvgPool2d((1, 1))\n",
        "        self.fc = nn.Linear(256, num_classes)\n",
        "\n",
        "    def make_layer(self, out_channels, num_blocks, stride):\n",
        "        strides = [stride] + [1]*(num_blocks-1)\n",
        "        layers = []\n",
        "        for stride in strides:\n",
        "            layers.append(ResidualBlock(self.in_channels, out_channels, stride))\n",
        "            self.in_channels = out_channels\n",
        "        return nn.Sequential(*layers)\n",
        "\n",
        "    def forward(self, x):\n",
        "        out = torch.relu(self.bn1(self.conv1(x)))\n",
        "        out = self.layer1(out)\n",
        "        out = self.layer2(out)\n",
        "        out = self.layer3(out)\n",
        "        out = self.avg_pool(out)\n",
        "        out = out.view(out.size(0), -1)\n",
        "        out = self.fc(out)\n",
        "        return out"
      ],
      "metadata": {
        "id": "nZ9UxlmEjMIi"
      },
      "execution_count": null,
      "outputs": []
    },
    {
      "cell_type": "code",
      "source": [
        "def train_epoch(model, train_loader, criterion, optimizer, device):\n",
        "    model.train()\n",
        "    running_loss = 0.0\n",
        "    correct = 0\n",
        "    total = 0\n",
        "\n",
        "    for inputs, targets in tqdm(train_loader, desc='Training'):\n",
        "        inputs, targets = inputs.to(device), targets.to(device)\n",
        "\n",
        "        optimizer.zero_grad()\n",
        "        outputs = model(inputs)\n",
        "        loss = criterion(outputs, targets)\n",
        "        loss.backward()\n",
        "        optimizer.step()\n",
        "\n",
        "        running_loss += loss.item()\n",
        "        _, predicted = outputs.max(1)\n",
        "        total += targets.size(0)\n",
        "        correct += predicted.eq(targets).sum().item()\n",
        "\n",
        "    accuracy = 100. * correct / total\n",
        "    avg_loss = running_loss / len(train_loader)\n",
        "    return avg_loss, accuracy"
      ],
      "metadata": {
        "id": "1lVmp280jQIN"
      },
      "execution_count": null,
      "outputs": []
    },
    {
      "cell_type": "code",
      "source": [
        "def evaluate(model, data_loader, criterion, device):\n",
        "    model.eval()\n",
        "    running_loss = 0.0\n",
        "    correct = 0\n",
        "    total = 0\n",
        "\n",
        "    with torch.no_grad():\n",
        "        for inputs, targets in tqdm(data_loader, desc='Evaluating'):\n",
        "            inputs, targets = inputs.to(device), targets.to(device)\n",
        "            outputs = model(inputs)\n",
        "            loss = criterion(outputs, targets)\n",
        "\n",
        "            running_loss += loss.item()\n",
        "            _, predicted = outputs.max(1)\n",
        "            total += targets.size(0)\n",
        "            correct += predicted.eq(targets).sum().item()\n",
        "\n",
        "    accuracy = 100. * correct / total\n",
        "    avg_loss = running_loss / len(data_loader)\n",
        "    return avg_loss, accuracy"
      ],
      "metadata": {
        "id": "s6mhFSXZjS8F"
      },
      "execution_count": null,
      "outputs": []
    },
    {
      "cell_type": "code",
      "source": [
        "def main():\n",
        "    wandb.login(key=\"cc69bae954e1e13ab072d175549500283da08831\")  # Ensure you replace \"your-api-key\" with your actual WandB API key\n",
        "\n",
        "    wandb.init(project=\"cifar10-cnn\", name=\"resnet-like-model\", config={\n",
        "        \"batch_size\": BATCH_SIZE,\n",
        "        \"learning_rate\": LEARNING_RATE,\n",
        "        \"epochs\": EPOCHS,\n",
        "        \"num_classes\": NUM_CLASSES\n",
        "    })\n",
        "\n",
        "    model = CIFAR10CNN(NUM_CLASSES).to(device)\n",
        "    wandb.watch(model, log=\"all\", log_freq=10)\n",
        "\n",
        "    criterion = nn.CrossEntropyLoss()\n",
        "    optimizer = optim.Adam(model.parameters(), lr=LEARNING_RATE)\n",
        "    scheduler = optim.lr_scheduler.ReduceLROnPlateau(optimizer, mode='min', factor=0.1,\n",
        "                                                   patience=5, verbose=True)\n",
        "\n",
        "    best_val_acc = 0\n",
        "    for epoch in range(EPOCHS):\n",
        "        train_loss, train_acc = train_epoch(model, train_loader, criterion, optimizer, device)\n",
        "        val_loss, val_acc = evaluate(model, val_loader, criterion, device)\n",
        "        wandb.log({\n",
        "            'epoch': epoch,\n",
        "            'train_loss': train_loss,\n",
        "            'train_acc': train_acc,\n",
        "            'val_loss': val_loss,\n",
        "            'val_acc': val_acc\n",
        "        })\n",
        "\n",
        "        # Print progress\n",
        "        print(f'Epoch: {epoch+1}/{EPOCHS}')\n",
        "        print(f'Train Loss: {train_loss:.4f} | Train Acc: {train_acc:.2f}%')\n",
        "        print(f'Val Loss: {val_loss:.4f} | Val Acc: {val_acc:.2f}%')\n",
        "\n",
        "        # Save best model\n",
        "        if val_acc > best_val_acc:\n",
        "            best_val_acc = val_acc\n",
        "            torch.save(model.state_dict(), 'best_model.pth')\n",
        "\n",
        "        # Adjust learning rate\n",
        "        scheduler.step(val_loss)\n",
        "\n",
        "    # Load best model and evaluate on test set\n",
        "    model.load_state_dict(torch.load('best_model.pth'))\n",
        "    test_loss, test_acc = evaluate(model, test_loader, criterion, device)\n",
        "    print(f'Test Loss: {test_loss:.4f} | Test Acc: {test_acc:.2f}%')\n",
        "\n",
        "    wandb.log({'test_acc': test_acc})\n",
        "    wandb.finish()\n",
        "\n",
        "if __name__ == '__main__':\n",
        "    main()\n"
      ],
      "metadata": {
        "colab": {
          "base_uri": "https://localhost:8080/",
          "height": 1000
        },
        "id": "HWdRuzmrZ8Zp",
        "outputId": "40037e34-aba6-4bca-fcf6-40ed1b60be57"
      },
      "execution_count": null,
      "outputs": [
        {
          "metadata": {
            "tags": null
          },
          "name": "stderr",
          "output_type": "stream",
          "text": [
            "\u001b[34m\u001b[1mwandb\u001b[0m: \u001b[33mWARNING\u001b[0m Calling wandb.login() after wandb.init() has no effect.\n",
            "Training: 100%|██████████| 313/313 [00:34<00:00,  9.14it/s]\n",
            "Evaluating: 100%|██████████| 79/79 [00:04<00:00, 17.99it/s]\n"
          ]
        },
        {
          "metadata": {
            "tags": null
          },
          "name": "stdout",
          "output_type": "stream",
          "text": [
            "Epoch: 1/100\n",
            "Train Loss: 1.4768 | Train Acc: 45.55%\n",
            "Val Loss: 1.2448 | Val Acc: 55.72%\n"
          ]
        },
        {
          "metadata": {
            "tags": null
          },
          "name": "stderr",
          "output_type": "stream",
          "text": [
            "Training: 100%|██████████| 313/313 [00:34<00:00,  8.95it/s]\n",
            "Evaluating: 100%|██████████| 79/79 [00:04<00:00, 18.39it/s]\n"
          ]
        },
        {
          "metadata": {
            "tags": null
          },
          "name": "stdout",
          "output_type": "stream",
          "text": [
            "Epoch: 2/100\n",
            "Train Loss: 1.0286 | Train Acc: 63.17%\n",
            "Val Loss: 1.0624 | Val Acc: 61.82%\n"
          ]
        },
        {
          "metadata": {
            "tags": null
          },
          "name": "stderr",
          "output_type": "stream",
          "text": [
            "Training: 100%|██████████| 313/313 [00:34<00:00,  9.00it/s]\n",
            "Evaluating: 100%|██████████| 79/79 [00:04<00:00, 18.42it/s]\n"
          ]
        },
        {
          "metadata": {
            "tags": null
          },
          "name": "stdout",
          "output_type": "stream",
          "text": [
            "Epoch: 3/100\n",
            "Train Loss: 0.8272 | Train Acc: 70.93%\n",
            "Val Loss: 0.9774 | Val Acc: 65.13%\n"
          ]
        },
        {
          "metadata": {
            "tags": null
          },
          "name": "stderr",
          "output_type": "stream",
          "text": [
            "Training: 100%|██████████| 313/313 [00:35<00:00,  8.94it/s]\n",
            "Evaluating: 100%|██████████| 79/79 [00:04<00:00, 16.46it/s]\n"
          ]
        },
        {
          "metadata": {
            "tags": null
          },
          "name": "stdout",
          "output_type": "stream",
          "text": [
            "Epoch: 4/100\n",
            "Train Loss: 0.6918 | Train Acc: 75.81%\n",
            "Val Loss: 0.9004 | Val Acc: 69.42%\n"
          ]
        },
        {
          "metadata": {
            "tags": null
          },
          "name": "stderr",
          "output_type": "stream",
          "text": [
            "Training: 100%|██████████| 313/313 [00:34<00:00,  9.00it/s]\n",
            "Evaluating: 100%|██████████| 79/79 [00:06<00:00, 11.45it/s]\n"
          ]
        },
        {
          "metadata": {
            "tags": null
          },
          "name": "stdout",
          "output_type": "stream",
          "text": [
            "Epoch: 5/100\n",
            "Train Loss: 0.5996 | Train Acc: 79.17%\n",
            "Val Loss: 0.6901 | Val Acc: 76.98%\n"
          ]
        },
        {
          "metadata": {
            "tags": null
          },
          "name": "stderr",
          "output_type": "stream",
          "text": [
            "Training: 100%|██████████| 313/313 [00:33<00:00,  9.23it/s]\n",
            "Evaluating: 100%|██████████| 79/79 [00:04<00:00, 16.94it/s]\n"
          ]
        },
        {
          "metadata": {
            "tags": null
          },
          "name": "stdout",
          "output_type": "stream",
          "text": [
            "Epoch: 6/100\n",
            "Train Loss: 0.5327 | Train Acc: 81.37%\n",
            "Val Loss: 0.8678 | Val Acc: 69.98%\n"
          ]
        },
        {
          "metadata": {
            "tags": null
          },
          "name": "stderr",
          "output_type": "stream",
          "text": [
            "Training: 100%|██████████| 313/313 [00:34<00:00,  8.99it/s]\n",
            "Evaluating: 100%|██████████| 79/79 [00:04<00:00, 18.50it/s]\n"
          ]
        },
        {
          "metadata": {
            "tags": null
          },
          "name": "stdout",
          "output_type": "stream",
          "text": [
            "Epoch: 7/100\n",
            "Train Loss: 0.4863 | Train Acc: 83.21%\n",
            "Val Loss: 0.5508 | Val Acc: 81.18%\n"
          ]
        },
        {
          "metadata": {
            "tags": null
          },
          "name": "stderr",
          "output_type": "stream",
          "text": [
            "Training: 100%|██████████| 313/313 [00:34<00:00,  9.01it/s]\n",
            "Evaluating: 100%|██████████| 79/79 [00:04<00:00, 18.65it/s]\n"
          ]
        },
        {
          "metadata": {
            "tags": null
          },
          "name": "stdout",
          "output_type": "stream",
          "text": [
            "Epoch: 8/100\n",
            "Train Loss: 0.4392 | Train Acc: 84.78%\n",
            "Val Loss: 0.5162 | Val Acc: 82.42%\n"
          ]
        },
        {
          "metadata": {
            "tags": null
          },
          "name": "stderr",
          "output_type": "stream",
          "text": [
            "Training: 100%|██████████| 313/313 [00:34<00:00,  9.09it/s]\n",
            "Evaluating: 100%|██████████| 79/79 [00:04<00:00, 17.41it/s]\n"
          ]
        },
        {
          "metadata": {
            "tags": null
          },
          "name": "stdout",
          "output_type": "stream",
          "text": [
            "Epoch: 9/100\n",
            "Train Loss: 0.4045 | Train Acc: 86.07%\n",
            "Val Loss: 0.5298 | Val Acc: 82.30%\n"
          ]
        },
        {
          "metadata": {
            "tags": null
          },
          "name": "stderr",
          "output_type": "stream",
          "text": [
            "Training: 100%|██████████| 313/313 [00:34<00:00,  9.12it/s]\n",
            "Evaluating: 100%|██████████| 79/79 [00:05<00:00, 13.68it/s]\n"
          ]
        },
        {
          "metadata": {
            "tags": null
          },
          "name": "stdout",
          "output_type": "stream",
          "text": [
            "Epoch: 10/100\n",
            "Train Loss: 0.3709 | Train Acc: 87.29%\n",
            "Val Loss: 0.5251 | Val Acc: 81.68%\n"
          ]
        },
        {
          "metadata": {
            "tags": null
          },
          "name": "stderr",
          "output_type": "stream",
          "text": [
            "Training: 100%|██████████| 313/313 [00:33<00:00,  9.43it/s]\n",
            "Evaluating: 100%|██████████| 79/79 [00:06<00:00, 11.67it/s]\n"
          ]
        },
        {
          "metadata": {
            "tags": null
          },
          "name": "stdout",
          "output_type": "stream",
          "text": [
            "Epoch: 11/100\n",
            "Train Loss: 0.3456 | Train Acc: 88.02%\n",
            "Val Loss: 0.4956 | Val Acc: 82.68%\n"
          ]
        },
        {
          "metadata": {
            "tags": null
          },
          "name": "stderr",
          "output_type": "stream",
          "text": [
            "Training: 100%|██████████| 313/313 [00:33<00:00,  9.30it/s]\n",
            "Evaluating: 100%|██████████| 79/79 [00:04<00:00, 17.48it/s]\n"
          ]
        },
        {
          "metadata": {
            "tags": null
          },
          "name": "stdout",
          "output_type": "stream",
          "text": [
            "Epoch: 12/100\n",
            "Train Loss: 0.3216 | Train Acc: 88.78%\n",
            "Val Loss: 0.4815 | Val Acc: 84.01%\n"
          ]
        },
        {
          "metadata": {
            "tags": null
          },
          "name": "stderr",
          "output_type": "stream",
          "text": [
            "Training: 100%|██████████| 313/313 [00:34<00:00,  9.14it/s]\n",
            "Evaluating: 100%|██████████| 79/79 [00:04<00:00, 18.65it/s]\n"
          ]
        },
        {
          "metadata": {
            "tags": null
          },
          "name": "stdout",
          "output_type": "stream",
          "text": [
            "Epoch: 13/100\n",
            "Train Loss: 0.3017 | Train Acc: 89.46%\n",
            "Val Loss: 0.4163 | Val Acc: 85.96%\n"
          ]
        },
        {
          "metadata": {
            "tags": null
          },
          "name": "stderr",
          "output_type": "stream",
          "text": [
            "Training: 100%|██████████| 313/313 [00:35<00:00,  8.91it/s]\n",
            "Evaluating: 100%|██████████| 79/79 [00:04<00:00, 18.72it/s]\n"
          ]
        },
        {
          "metadata": {
            "tags": null
          },
          "name": "stdout",
          "output_type": "stream",
          "text": [
            "Epoch: 14/100\n",
            "Train Loss: 0.2845 | Train Acc: 90.04%\n",
            "Val Loss: 0.3912 | Val Acc: 87.04%\n"
          ]
        },
        {
          "metadata": {
            "tags": null
          },
          "name": "stderr",
          "output_type": "stream",
          "text": [
            "Training: 100%|██████████| 313/313 [00:34<00:00,  8.97it/s]\n",
            "Evaluating: 100%|██████████| 79/79 [00:04<00:00, 18.38it/s]\n"
          ]
        },
        {
          "metadata": {
            "tags": null
          },
          "name": "stdout",
          "output_type": "stream",
          "text": [
            "Epoch: 15/100\n",
            "Train Loss: 0.2611 | Train Acc: 90.87%\n",
            "Val Loss: 0.4545 | Val Acc: 85.22%\n"
          ]
        },
        {
          "metadata": {
            "tags": null
          },
          "name": "stderr",
          "output_type": "stream",
          "text": [
            "Training: 100%|██████████| 313/313 [00:34<00:00,  9.03it/s]\n",
            "Evaluating: 100%|██████████| 79/79 [00:05<00:00, 14.13it/s]\n"
          ]
        },
        {
          "metadata": {
            "tags": null
          },
          "name": "stdout",
          "output_type": "stream",
          "text": [
            "Epoch: 16/100\n",
            "Train Loss: 0.2417 | Train Acc: 91.38%\n",
            "Val Loss: 0.4328 | Val Acc: 85.57%\n"
          ]
        },
        {
          "metadata": {
            "tags": null
          },
          "name": "stderr",
          "output_type": "stream",
          "text": [
            "Training: 100%|██████████| 313/313 [00:34<00:00,  9.20it/s]\n",
            "Evaluating: 100%|██████████| 79/79 [00:06<00:00, 11.71it/s]\n"
          ]
        },
        {
          "metadata": {
            "tags": null
          },
          "name": "stdout",
          "output_type": "stream",
          "text": [
            "Epoch: 17/100\n",
            "Train Loss: 0.2344 | Train Acc: 91.89%\n",
            "Val Loss: 0.4024 | Val Acc: 86.91%\n"
          ]
        },
        {
          "metadata": {
            "tags": null
          },
          "name": "stderr",
          "output_type": "stream",
          "text": [
            "Training: 100%|██████████| 313/313 [00:34<00:00,  9.14it/s]\n",
            "Evaluating: 100%|██████████| 79/79 [00:04<00:00, 17.92it/s]\n"
          ]
        },
        {
          "metadata": {
            "tags": null
          },
          "name": "stdout",
          "output_type": "stream",
          "text": [
            "Epoch: 18/100\n",
            "Train Loss: 0.2176 | Train Acc: 92.38%\n",
            "Val Loss: 0.4106 | Val Acc: 86.57%\n"
          ]
        },
        {
          "metadata": {
            "tags": null
          },
          "name": "stderr",
          "output_type": "stream",
          "text": [
            "Training: 100%|██████████| 313/313 [00:34<00:00,  9.04it/s]\n",
            "Evaluating: 100%|██████████| 79/79 [00:04<00:00, 18.59it/s]\n"
          ]
        },
        {
          "metadata": {
            "tags": null
          },
          "name": "stdout",
          "output_type": "stream",
          "text": [
            "Epoch: 19/100\n",
            "Train Loss: 0.1977 | Train Acc: 93.02%\n",
            "Val Loss: 0.3420 | Val Acc: 88.35%\n"
          ]
        },
        {
          "metadata": {
            "tags": null
          },
          "name": "stderr",
          "output_type": "stream",
          "text": [
            "Training: 100%|██████████| 313/313 [00:34<00:00,  8.96it/s]\n",
            "Evaluating: 100%|██████████| 79/79 [00:04<00:00, 18.11it/s]\n"
          ]
        },
        {
          "metadata": {
            "tags": null
          },
          "name": "stdout",
          "output_type": "stream",
          "text": [
            "Epoch: 20/100\n",
            "Train Loss: 0.1831 | Train Acc: 93.57%\n",
            "Val Loss: 0.3949 | Val Acc: 87.89%\n"
          ]
        },
        {
          "metadata": {
            "tags": null
          },
          "name": "stderr",
          "output_type": "stream",
          "text": [
            "Training: 100%|██████████| 313/313 [00:34<00:00,  9.15it/s]\n",
            "Evaluating: 100%|██████████| 79/79 [00:04<00:00, 18.38it/s]\n"
          ]
        },
        {
          "metadata": {
            "tags": null
          },
          "name": "stdout",
          "output_type": "stream",
          "text": [
            "Epoch: 21/100\n",
            "Train Loss: 0.1731 | Train Acc: 94.02%\n",
            "Val Loss: 0.3496 | Val Acc: 88.32%\n"
          ]
        },
        {
          "metadata": {
            "tags": null
          },
          "name": "stderr",
          "output_type": "stream",
          "text": [
            "Training: 100%|██████████| 313/313 [00:34<00:00,  9.01it/s]\n",
            "Evaluating: 100%|██████████| 79/79 [00:04<00:00, 15.93it/s]\n"
          ]
        },
        {
          "metadata": {
            "tags": null
          },
          "name": "stdout",
          "output_type": "stream",
          "text": [
            "Epoch: 22/100\n",
            "Train Loss: 0.1659 | Train Acc: 94.20%\n",
            "Val Loss: 0.3655 | Val Acc: 88.65%\n"
          ]
        },
        {
          "metadata": {
            "tags": null
          },
          "name": "stderr",
          "output_type": "stream",
          "text": [
            "Training: 100%|██████████| 313/313 [00:34<00:00,  9.17it/s]\n",
            "Evaluating: 100%|██████████| 79/79 [00:06<00:00, 12.22it/s]\n"
          ]
        },
        {
          "metadata": {
            "tags": null
          },
          "name": "stdout",
          "output_type": "stream",
          "text": [
            "Epoch: 23/100\n",
            "Train Loss: 0.1559 | Train Acc: 94.47%\n",
            "Val Loss: 0.3886 | Val Acc: 88.45%\n"
          ]
        },
        {
          "metadata": {
            "tags": null
          },
          "name": "stderr",
          "output_type": "stream",
          "text": [
            "Training: 100%|██████████| 313/313 [00:33<00:00,  9.31it/s]\n",
            "Evaluating: 100%|██████████| 79/79 [00:06<00:00, 12.71it/s]\n"
          ]
        },
        {
          "metadata": {
            "tags": null
          },
          "name": "stdout",
          "output_type": "stream",
          "text": [
            "Epoch: 24/100\n",
            "Train Loss: 0.1417 | Train Acc: 94.89%\n",
            "Val Loss: 0.3652 | Val Acc: 88.76%\n"
          ]
        },
        {
          "metadata": {
            "tags": null
          },
          "name": "stderr",
          "output_type": "stream",
          "text": [
            "Training: 100%|██████████| 313/313 [00:34<00:00,  9.03it/s]\n",
            "Evaluating: 100%|██████████| 79/79 [00:04<00:00, 18.36it/s]\n"
          ]
        },
        {
          "metadata": {
            "tags": null
          },
          "name": "stdout",
          "output_type": "stream",
          "text": [
            "Epoch: 25/100\n",
            "Train Loss: 0.1327 | Train Acc: 95.24%\n",
            "Val Loss: 0.4193 | Val Acc: 87.65%\n"
          ]
        },
        {
          "metadata": {
            "tags": null
          },
          "name": "stderr",
          "output_type": "stream",
          "text": [
            "Training: 100%|██████████| 313/313 [00:34<00:00,  8.97it/s]\n",
            "Evaluating: 100%|██████████| 79/79 [00:04<00:00, 18.93it/s]\n"
          ]
        },
        {
          "metadata": {
            "tags": null
          },
          "name": "stdout",
          "output_type": "stream",
          "text": [
            "Epoch: 26/100\n",
            "Train Loss: 0.0792 | Train Acc: 97.36%\n",
            "Val Loss: 0.2623 | Val Acc: 91.74%\n"
          ]
        },
        {
          "metadata": {
            "tags": null
          },
          "name": "stderr",
          "output_type": "stream",
          "text": [
            "Training: 100%|██████████| 313/313 [00:34<00:00,  9.16it/s]\n",
            "Evaluating: 100%|██████████| 79/79 [00:04<00:00, 18.35it/s]\n"
          ]
        },
        {
          "metadata": {
            "tags": null
          },
          "name": "stdout",
          "output_type": "stream",
          "text": [
            "Epoch: 27/100\n",
            "Train Loss: 0.0572 | Train Acc: 98.18%\n",
            "Val Loss: 0.2689 | Val Acc: 91.65%\n"
          ]
        },
        {
          "metadata": {
            "tags": null
          },
          "name": "stderr",
          "output_type": "stream",
          "text": [
            "Training: 100%|██████████| 313/313 [00:34<00:00,  9.03it/s]\n",
            "Evaluating: 100%|██████████| 79/79 [00:04<00:00, 18.04it/s]\n"
          ]
        },
        {
          "metadata": {
            "tags": null
          },
          "name": "stdout",
          "output_type": "stream",
          "text": [
            "Epoch: 28/100\n",
            "Train Loss: 0.0494 | Train Acc: 98.49%\n",
            "Val Loss: 0.2704 | Val Acc: 91.56%\n"
          ]
        },
        {
          "metadata": {
            "tags": null
          },
          "name": "stderr",
          "output_type": "stream",
          "text": [
            "Training: 100%|██████████| 313/313 [00:34<00:00,  9.13it/s]\n",
            "Evaluating: 100%|██████████| 79/79 [00:05<00:00, 14.73it/s]\n"
          ]
        },
        {
          "metadata": {
            "tags": null
          },
          "name": "stdout",
          "output_type": "stream",
          "text": [
            "Epoch: 29/100\n",
            "Train Loss: 0.0442 | Train Acc: 98.65%\n",
            "Val Loss: 0.2727 | Val Acc: 92.09%\n"
          ]
        },
        {
          "metadata": {
            "tags": null
          },
          "name": "stderr",
          "output_type": "stream",
          "text": [
            "Training: 100%|██████████| 313/313 [00:33<00:00,  9.23it/s]\n",
            "Evaluating: 100%|██████████| 79/79 [00:06<00:00, 12.37it/s]\n"
          ]
        },
        {
          "metadata": {
            "tags": null
          },
          "name": "stdout",
          "output_type": "stream",
          "text": [
            "Epoch: 30/100\n",
            "Train Loss: 0.0410 | Train Acc: 98.80%\n",
            "Val Loss: 0.2821 | Val Acc: 91.70%\n"
          ]
        },
        {
          "metadata": {
            "tags": null
          },
          "name": "stderr",
          "output_type": "stream",
          "text": [
            "Training: 100%|██████████| 313/313 [00:33<00:00,  9.42it/s]\n",
            "Evaluating: 100%|██████████| 79/79 [00:04<00:00, 17.25it/s]\n"
          ]
        },
        {
          "metadata": {
            "tags": null
          },
          "name": "stdout",
          "output_type": "stream",
          "text": [
            "Epoch: 31/100\n",
            "Train Loss: 0.0372 | Train Acc: 98.92%\n",
            "Val Loss: 0.2839 | Val Acc: 91.69%\n"
          ]
        },
        {
          "metadata": {
            "tags": null
          },
          "name": "stderr",
          "output_type": "stream",
          "text": [
            "Training: 100%|██████████| 313/313 [00:34<00:00,  9.04it/s]\n",
            "Evaluating: 100%|██████████| 79/79 [00:04<00:00, 18.39it/s]\n"
          ]
        },
        {
          "metadata": {
            "tags": null
          },
          "name": "stdout",
          "output_type": "stream",
          "text": [
            "Epoch: 32/100\n",
            "Train Loss: 0.0331 | Train Acc: 99.03%\n",
            "Val Loss: 0.2906 | Val Acc: 91.91%\n"
          ]
        },
        {
          "metadata": {
            "tags": null
          },
          "name": "stderr",
          "output_type": "stream",
          "text": [
            "Training: 100%|██████████| 313/313 [00:34<00:00,  9.03it/s]\n",
            "Evaluating: 100%|██████████| 79/79 [00:04<00:00, 18.38it/s]\n"
          ]
        },
        {
          "metadata": {
            "tags": null
          },
          "name": "stdout",
          "output_type": "stream",
          "text": [
            "Epoch: 33/100\n",
            "Train Loss: 0.0308 | Train Acc: 99.19%\n",
            "Val Loss: 0.2901 | Val Acc: 91.91%\n"
          ]
        },
        {
          "metadata": {
            "tags": null
          },
          "name": "stderr",
          "output_type": "stream",
          "text": [
            "Training: 100%|██████████| 313/313 [00:35<00:00,  8.88it/s]\n",
            "Evaluating: 100%|██████████| 79/79 [00:04<00:00, 17.46it/s]\n"
          ]
        },
        {
          "metadata": {
            "tags": null
          },
          "name": "stdout",
          "output_type": "stream",
          "text": [
            "Epoch: 34/100\n",
            "Train Loss: 0.0301 | Train Acc: 99.12%\n",
            "Val Loss: 0.2825 | Val Acc: 92.13%\n"
          ]
        },
        {
          "metadata": {
            "tags": null
          },
          "name": "stderr",
          "output_type": "stream",
          "text": [
            "Training: 100%|██████████| 313/313 [00:34<00:00,  9.04it/s]\n",
            "Evaluating: 100%|██████████| 79/79 [00:05<00:00, 14.27it/s]\n"
          ]
        },
        {
          "metadata": {
            "tags": null
          },
          "name": "stdout",
          "output_type": "stream",
          "text": [
            "Epoch: 35/100\n",
            "Train Loss: 0.0297 | Train Acc: 99.20%\n",
            "Val Loss: 0.2789 | Val Acc: 92.03%\n"
          ]
        },
        {
          "metadata": {
            "tags": null
          },
          "name": "stderr",
          "output_type": "stream",
          "text": [
            "Training: 100%|██████████| 313/313 [00:34<00:00,  9.16it/s]\n",
            "Evaluating: 100%|██████████| 79/79 [00:06<00:00, 11.39it/s]\n"
          ]
        },
        {
          "metadata": {
            "tags": null
          },
          "name": "stdout",
          "output_type": "stream",
          "text": [
            "Epoch: 36/100\n",
            "Train Loss: 0.0273 | Train Acc: 99.27%\n",
            "Val Loss: 0.2810 | Val Acc: 92.03%\n"
          ]
        },
        {
          "metadata": {
            "tags": null
          },
          "name": "stderr",
          "output_type": "stream",
          "text": [
            "Training: 100%|██████████| 313/313 [00:33<00:00,  9.29it/s]\n",
            "Evaluating: 100%|██████████| 79/79 [00:04<00:00, 17.72it/s]\n"
          ]
        },
        {
          "metadata": {
            "tags": null
          },
          "name": "stdout",
          "output_type": "stream",
          "text": [
            "Epoch: 37/100\n",
            "Train Loss: 0.0281 | Train Acc: 99.19%\n",
            "Val Loss: 0.2718 | Val Acc: 92.11%\n"
          ]
        },
        {
          "metadata": {
            "tags": null
          },
          "name": "stderr",
          "output_type": "stream",
          "text": [
            "Training: 100%|██████████| 313/313 [00:34<00:00,  9.02it/s]\n",
            "Evaluating: 100%|██████████| 79/79 [00:04<00:00, 18.61it/s]\n"
          ]
        },
        {
          "metadata": {
            "tags": null
          },
          "name": "stdout",
          "output_type": "stream",
          "text": [
            "Epoch: 38/100\n",
            "Train Loss: 0.0270 | Train Acc: 99.26%\n",
            "Val Loss: 0.2794 | Val Acc: 92.19%\n"
          ]
        },
        {
          "metadata": {
            "tags": null
          },
          "name": "stderr",
          "output_type": "stream",
          "text": [
            "Training: 100%|██████████| 313/313 [00:33<00:00,  9.22it/s]\n",
            "Evaluating: 100%|██████████| 79/79 [00:04<00:00, 19.09it/s]\n"
          ]
        },
        {
          "metadata": {
            "tags": null
          },
          "name": "stdout",
          "output_type": "stream",
          "text": [
            "Epoch: 39/100\n",
            "Train Loss: 0.0270 | Train Acc: 99.28%\n",
            "Val Loss: 0.2806 | Val Acc: 92.08%\n"
          ]
        },
        {
          "metadata": {
            "tags": null
          },
          "name": "stderr",
          "output_type": "stream",
          "text": [
            "Training: 100%|██████████| 313/313 [00:34<00:00,  9.10it/s]\n",
            "Evaluating: 100%|██████████| 79/79 [00:04<00:00, 18.70it/s]\n"
          ]
        },
        {
          "metadata": {
            "tags": null
          },
          "name": "stdout",
          "output_type": "stream",
          "text": [
            "Epoch: 40/100\n",
            "Train Loss: 0.0287 | Train Acc: 99.24%\n",
            "Val Loss: 0.2788 | Val Acc: 92.12%\n"
          ]
        },
        {
          "metadata": {
            "tags": null
          },
          "name": "stderr",
          "output_type": "stream",
          "text": [
            "Training: 100%|██████████| 313/313 [00:33<00:00,  9.24it/s]\n",
            "Evaluating: 100%|██████████| 79/79 [00:05<00:00, 14.62it/s]\n"
          ]
        },
        {
          "metadata": {
            "tags": null
          },
          "name": "stdout",
          "output_type": "stream",
          "text": [
            "Epoch: 41/100\n",
            "Train Loss: 0.0269 | Train Acc: 99.33%\n",
            "Val Loss: 0.2857 | Val Acc: 91.82%\n"
          ]
        },
        {
          "metadata": {
            "tags": null
          },
          "name": "stderr",
          "output_type": "stream",
          "text": [
            "Training: 100%|██████████| 313/313 [00:34<00:00,  9.15it/s]\n",
            "Evaluating: 100%|██████████| 79/79 [00:06<00:00, 11.48it/s]\n"
          ]
        },
        {
          "metadata": {
            "tags": null
          },
          "name": "stdout",
          "output_type": "stream",
          "text": [
            "Epoch: 42/100\n",
            "Train Loss: 0.0268 | Train Acc: 99.33%\n",
            "Val Loss: 0.2807 | Val Acc: 91.82%\n"
          ]
        },
        {
          "metadata": {
            "tags": null
          },
          "name": "stderr",
          "output_type": "stream",
          "text": [
            "Training: 100%|██████████| 313/313 [00:33<00:00,  9.33it/s]\n",
            "Evaluating: 100%|██████████| 79/79 [00:04<00:00, 17.68it/s]\n"
          ]
        },
        {
          "metadata": {
            "tags": null
          },
          "name": "stdout",
          "output_type": "stream",
          "text": [
            "Epoch: 43/100\n",
            "Train Loss: 0.0265 | Train Acc: 99.36%\n",
            "Val Loss: 0.2825 | Val Acc: 91.89%\n"
          ]
        },
        {
          "metadata": {
            "tags": null
          },
          "name": "stderr",
          "output_type": "stream",
          "text": [
            "Training: 100%|██████████| 313/313 [00:34<00:00,  9.07it/s]\n",
            "Evaluating: 100%|██████████| 79/79 [00:04<00:00, 19.12it/s]\n"
          ]
        },
        {
          "metadata": {
            "tags": null
          },
          "name": "stdout",
          "output_type": "stream",
          "text": [
            "Epoch: 44/100\n",
            "Train Loss: 0.0259 | Train Acc: 99.36%\n",
            "Val Loss: 0.2781 | Val Acc: 92.03%\n"
          ]
        },
        {
          "metadata": {
            "tags": null
          },
          "name": "stderr",
          "output_type": "stream",
          "text": [
            "Training: 100%|██████████| 313/313 [00:34<00:00,  9.09it/s]\n",
            "Evaluating: 100%|██████████| 79/79 [00:04<00:00, 18.99it/s]\n"
          ]
        },
        {
          "metadata": {
            "tags": null
          },
          "name": "stdout",
          "output_type": "stream",
          "text": [
            "Epoch: 45/100\n",
            "Train Loss: 0.0271 | Train Acc: 99.30%\n",
            "Val Loss: 0.2768 | Val Acc: 92.10%\n"
          ]
        },
        {
          "metadata": {
            "tags": null
          },
          "name": "stderr",
          "output_type": "stream",
          "text": [
            "Training: 100%|██████████| 313/313 [00:33<00:00,  9.21it/s]\n",
            "Evaluating: 100%|██████████| 79/79 [00:04<00:00, 18.08it/s]\n"
          ]
        },
        {
          "metadata": {
            "tags": null
          },
          "name": "stdout",
          "output_type": "stream",
          "text": [
            "Epoch: 46/100\n",
            "Train Loss: 0.0271 | Train Acc: 99.27%\n",
            "Val Loss: 0.2821 | Val Acc: 92.18%\n"
          ]
        },
        {
          "metadata": {
            "tags": null
          },
          "name": "stderr",
          "output_type": "stream",
          "text": [
            "Training: 100%|██████████| 313/313 [00:34<00:00,  9.10it/s]\n",
            "Evaluating: 100%|██████████| 79/79 [00:05<00:00, 14.89it/s]\n"
          ]
        },
        {
          "metadata": {
            "tags": null
          },
          "name": "stdout",
          "output_type": "stream",
          "text": [
            "Epoch: 47/100\n",
            "Train Loss: 0.0256 | Train Acc: 99.32%\n",
            "Val Loss: 0.2855 | Val Acc: 92.02%\n"
          ]
        },
        {
          "metadata": {
            "tags": null
          },
          "name": "stderr",
          "output_type": "stream",
          "text": [
            "Training: 100%|██████████| 313/313 [00:33<00:00,  9.22it/s]\n",
            "Evaluating: 100%|██████████| 79/79 [00:06<00:00, 11.73it/s]\n"
          ]
        },
        {
          "metadata": {
            "tags": null
          },
          "name": "stdout",
          "output_type": "stream",
          "text": [
            "Epoch: 48/100\n",
            "Train Loss: 0.0271 | Train Acc: 99.32%\n",
            "Val Loss: 0.2862 | Val Acc: 91.85%\n"
          ]
        },
        {
          "metadata": {
            "tags": null
          },
          "name": "stderr",
          "output_type": "stream",
          "text": [
            "Training: 100%|██████████| 313/313 [00:33<00:00,  9.28it/s]\n",
            "Evaluating: 100%|██████████| 79/79 [00:04<00:00, 17.54it/s]\n"
          ]
        },
        {
          "metadata": {
            "tags": null
          },
          "name": "stdout",
          "output_type": "stream",
          "text": [
            "Epoch: 49/100\n",
            "Train Loss: 0.0277 | Train Acc: 99.30%\n",
            "Val Loss: 0.2832 | Val Acc: 91.97%\n"
          ]
        },
        {
          "metadata": {
            "tags": null
          },
          "name": "stderr",
          "output_type": "stream",
          "text": [
            "Training: 100%|██████████| 313/313 [00:34<00:00,  9.04it/s]\n",
            "Evaluating: 100%|██████████| 79/79 [00:04<00:00, 18.70it/s]\n"
          ]
        },
        {
          "metadata": {
            "tags": null
          },
          "name": "stdout",
          "output_type": "stream",
          "text": [
            "Epoch: 50/100\n",
            "Train Loss: 0.0262 | Train Acc: 99.34%\n",
            "Val Loss: 0.2838 | Val Acc: 91.88%\n"
          ]
        },
        {
          "metadata": {
            "tags": null
          },
          "name": "stderr",
          "output_type": "stream",
          "text": [
            "Training: 100%|██████████| 313/313 [00:33<00:00,  9.27it/s]\n",
            "Evaluating: 100%|██████████| 79/79 [00:04<00:00, 18.40it/s]\n"
          ]
        },
        {
          "metadata": {
            "tags": null
          },
          "name": "stdout",
          "output_type": "stream",
          "text": [
            "Epoch: 51/100\n",
            "Train Loss: 0.0271 | Train Acc: 99.30%\n",
            "Val Loss: 0.2913 | Val Acc: 91.90%\n"
          ]
        },
        {
          "metadata": {
            "tags": null
          },
          "name": "stderr",
          "output_type": "stream",
          "text": [
            "Training: 100%|██████████| 313/313 [00:34<00:00,  9.05it/s]\n",
            "Evaluating: 100%|██████████| 79/79 [00:04<00:00, 18.61it/s]\n"
          ]
        },
        {
          "metadata": {
            "tags": null
          },
          "name": "stdout",
          "output_type": "stream",
          "text": [
            "Epoch: 52/100\n",
            "Train Loss: 0.0265 | Train Acc: 99.32%\n",
            "Val Loss: 0.2789 | Val Acc: 92.01%\n"
          ]
        },
        {
          "metadata": {
            "tags": null
          },
          "name": "stderr",
          "output_type": "stream",
          "text": [
            "Training: 100%|██████████| 313/313 [00:34<00:00,  9.10it/s]\n",
            "Evaluating: 100%|██████████| 79/79 [00:04<00:00, 16.03it/s]\n"
          ]
        },
        {
          "metadata": {
            "tags": null
          },
          "name": "stdout",
          "output_type": "stream",
          "text": [
            "Epoch: 53/100\n",
            "Train Loss: 0.0274 | Train Acc: 99.28%\n",
            "Val Loss: 0.2840 | Val Acc: 92.03%\n"
          ]
        },
        {
          "metadata": {
            "tags": null
          },
          "name": "stderr",
          "output_type": "stream",
          "text": [
            "Training: 100%|██████████| 313/313 [00:34<00:00,  9.14it/s]\n",
            "Evaluating: 100%|██████████| 79/79 [00:06<00:00, 11.50it/s]\n"
          ]
        },
        {
          "metadata": {
            "tags": null
          },
          "name": "stdout",
          "output_type": "stream",
          "text": [
            "Epoch: 54/100\n",
            "Train Loss: 0.0271 | Train Acc: 99.28%\n",
            "Val Loss: 0.2794 | Val Acc: 91.94%\n"
          ]
        },
        {
          "metadata": {
            "tags": null
          },
          "name": "stderr",
          "output_type": "stream",
          "text": [
            "Training: 100%|██████████| 313/313 [00:33<00:00,  9.22it/s]\n",
            "Evaluating: 100%|██████████| 79/79 [00:04<00:00, 17.79it/s]\n"
          ]
        },
        {
          "metadata": {
            "tags": null
          },
          "name": "stdout",
          "output_type": "stream",
          "text": [
            "Epoch: 55/100\n",
            "Train Loss: 0.0266 | Train Acc: 99.30%\n",
            "Val Loss: 0.2788 | Val Acc: 92.29%\n"
          ]
        },
        {
          "metadata": {
            "tags": null
          },
          "name": "stderr",
          "output_type": "stream",
          "text": [
            "Training: 100%|██████████| 313/313 [00:34<00:00,  9.05it/s]\n",
            "Evaluating: 100%|██████████| 79/79 [00:04<00:00, 18.65it/s]\n"
          ]
        },
        {
          "metadata": {
            "tags": null
          },
          "name": "stdout",
          "output_type": "stream",
          "text": [
            "Epoch: 56/100\n",
            "Train Loss: 0.0280 | Train Acc: 99.23%\n",
            "Val Loss: 0.2761 | Val Acc: 92.06%\n"
          ]
        },
        {
          "metadata": {
            "tags": null
          },
          "name": "stderr",
          "output_type": "stream",
          "text": [
            "Training: 100%|██████████| 313/313 [00:34<00:00,  9.09it/s]\n",
            "Evaluating: 100%|██████████| 79/79 [00:04<00:00, 19.07it/s]\n"
          ]
        },
        {
          "metadata": {
            "tags": null
          },
          "name": "stdout",
          "output_type": "stream",
          "text": [
            "Epoch: 57/100\n",
            "Train Loss: 0.0253 | Train Acc: 99.36%\n",
            "Val Loss: 0.2840 | Val Acc: 92.02%\n"
          ]
        },
        {
          "metadata": {
            "tags": null
          },
          "name": "stderr",
          "output_type": "stream",
          "text": [
            "Training: 100%|██████████| 313/313 [00:34<00:00,  9.11it/s]\n",
            "Evaluating: 100%|██████████| 79/79 [00:04<00:00, 18.64it/s]\n"
          ]
        },
        {
          "metadata": {
            "tags": null
          },
          "name": "stdout",
          "output_type": "stream",
          "text": [
            "Epoch: 58/100\n",
            "Train Loss: 0.0268 | Train Acc: 99.33%\n",
            "Val Loss: 0.2790 | Val Acc: 92.20%\n"
          ]
        },
        {
          "metadata": {
            "tags": null
          },
          "name": "stderr",
          "output_type": "stream",
          "text": [
            "Training: 100%|██████████| 313/313 [00:34<00:00,  9.03it/s]\n",
            "Evaluating: 100%|██████████| 79/79 [00:04<00:00, 16.20it/s]\n"
          ]
        },
        {
          "metadata": {
            "tags": null
          },
          "name": "stdout",
          "output_type": "stream",
          "text": [
            "Epoch: 59/100\n",
            "Train Loss: 0.0270 | Train Acc: 99.31%\n",
            "Val Loss: 0.2824 | Val Acc: 92.22%\n"
          ]
        },
        {
          "output_type": "stream",
          "name": "stderr",
          "text": [
            "Training: 100%|██████████| 313/313 [00:34<00:00,  9.03it/s]\n",
            "Evaluating: 100%|██████████| 79/79 [00:06<00:00, 11.74it/s]\n"
          ]
        },
        {
          "output_type": "stream",
          "name": "stdout",
          "text": [
            "Epoch: 60/100\n",
            "Train Loss: 0.0272 | Train Acc: 99.27%\n",
            "Val Loss: 0.2799 | Val Acc: 92.08%\n"
          ]
        },
        {
          "output_type": "stream",
          "name": "stderr",
          "text": [
            "Training: 100%|██████████| 313/313 [00:33<00:00,  9.30it/s]\n",
            "Evaluating: 100%|██████████| 79/79 [00:04<00:00, 16.61it/s]\n"
          ]
        },
        {
          "output_type": "stream",
          "name": "stdout",
          "text": [
            "Epoch: 61/100\n",
            "Train Loss: 0.0268 | Train Acc: 99.31%\n",
            "Val Loss: 0.2789 | Val Acc: 92.25%\n"
          ]
        },
        {
          "output_type": "stream",
          "name": "stderr",
          "text": [
            "Training: 100%|██████████| 313/313 [00:34<00:00,  9.00it/s]\n",
            "Evaluating: 100%|██████████| 79/79 [00:04<00:00, 18.39it/s]\n"
          ]
        },
        {
          "output_type": "stream",
          "name": "stdout",
          "text": [
            "Epoch: 62/100\n",
            "Train Loss: 0.0266 | Train Acc: 99.30%\n",
            "Val Loss: 0.2753 | Val Acc: 92.28%\n"
          ]
        },
        {
          "output_type": "stream",
          "name": "stderr",
          "text": [
            "Training: 100%|██████████| 313/313 [00:34<00:00,  8.96it/s]\n",
            "Evaluating: 100%|██████████| 79/79 [00:04<00:00, 18.34it/s]\n"
          ]
        },
        {
          "output_type": "stream",
          "name": "stdout",
          "text": [
            "Epoch: 63/100\n",
            "Train Loss: 0.0269 | Train Acc: 99.27%\n",
            "Val Loss: 0.2825 | Val Acc: 91.83%\n"
          ]
        },
        {
          "output_type": "stream",
          "name": "stderr",
          "text": [
            "Training: 100%|██████████| 313/313 [00:34<00:00,  9.07it/s]\n",
            "Evaluating: 100%|██████████| 79/79 [00:04<00:00, 19.56it/s]\n"
          ]
        },
        {
          "output_type": "stream",
          "name": "stdout",
          "text": [
            "Epoch: 64/100\n",
            "Train Loss: 0.0266 | Train Acc: 99.33%\n",
            "Val Loss: 0.2841 | Val Acc: 92.28%\n"
          ]
        },
        {
          "output_type": "stream",
          "name": "stderr",
          "text": [
            "Training: 100%|██████████| 313/313 [00:34<00:00,  9.04it/s]\n",
            "Evaluating: 100%|██████████| 79/79 [00:04<00:00, 16.48it/s]\n"
          ]
        },
        {
          "output_type": "stream",
          "name": "stdout",
          "text": [
            "Epoch: 65/100\n",
            "Train Loss: 0.0272 | Train Acc: 99.30%\n",
            "Val Loss: 0.2876 | Val Acc: 92.16%\n"
          ]
        },
        {
          "output_type": "stream",
          "name": "stderr",
          "text": [
            "Training: 100%|██████████| 313/313 [00:34<00:00,  9.14it/s]\n",
            "Evaluating: 100%|██████████| 79/79 [00:05<00:00, 13.90it/s]\n"
          ]
        },
        {
          "output_type": "stream",
          "name": "stdout",
          "text": [
            "Epoch: 66/100\n",
            "Train Loss: 0.0262 | Train Acc: 99.36%\n",
            "Val Loss: 0.2771 | Val Acc: 92.22%\n"
          ]
        },
        {
          "output_type": "stream",
          "name": "stderr",
          "text": [
            "Training: 100%|██████████| 313/313 [00:33<00:00,  9.30it/s]\n",
            "Evaluating: 100%|██████████| 79/79 [00:06<00:00, 11.70it/s]\n"
          ]
        },
        {
          "output_type": "stream",
          "name": "stdout",
          "text": [
            "Epoch: 67/100\n",
            "Train Loss: 0.0279 | Train Acc: 99.29%\n",
            "Val Loss: 0.2799 | Val Acc: 91.84%\n"
          ]
        },
        {
          "output_type": "stream",
          "name": "stderr",
          "text": [
            "Training: 100%|██████████| 313/313 [00:33<00:00,  9.48it/s]\n",
            "Evaluating: 100%|██████████| 79/79 [00:04<00:00, 16.52it/s]\n"
          ]
        },
        {
          "output_type": "stream",
          "name": "stdout",
          "text": [
            "Epoch: 68/100\n",
            "Train Loss: 0.0262 | Train Acc: 99.33%\n",
            "Val Loss: 0.2820 | Val Acc: 91.80%\n"
          ]
        },
        {
          "output_type": "stream",
          "name": "stderr",
          "text": [
            "Training: 100%|██████████| 313/313 [00:33<00:00,  9.38it/s]\n",
            "Evaluating: 100%|██████████| 79/79 [00:04<00:00, 19.56it/s]\n"
          ]
        },
        {
          "output_type": "stream",
          "name": "stdout",
          "text": [
            "Epoch: 69/100\n",
            "Train Loss: 0.0275 | Train Acc: 99.28%\n",
            "Val Loss: 0.2807 | Val Acc: 92.11%\n"
          ]
        },
        {
          "output_type": "stream",
          "name": "stderr",
          "text": [
            "Training: 100%|██████████| 313/313 [00:33<00:00,  9.36it/s]\n",
            "Evaluating: 100%|██████████| 79/79 [00:04<00:00, 19.42it/s]\n"
          ]
        },
        {
          "output_type": "stream",
          "name": "stdout",
          "text": [
            "Epoch: 70/100\n",
            "Train Loss: 0.0278 | Train Acc: 99.23%\n",
            "Val Loss: 0.2935 | Val Acc: 91.80%\n"
          ]
        },
        {
          "output_type": "stream",
          "name": "stderr",
          "text": [
            "Training: 100%|██████████| 313/313 [00:33<00:00,  9.40it/s]\n",
            "Evaluating: 100%|██████████| 79/79 [00:04<00:00, 18.81it/s]\n"
          ]
        },
        {
          "output_type": "stream",
          "name": "stdout",
          "text": [
            "Epoch: 71/100\n",
            "Train Loss: 0.0277 | Train Acc: 99.24%\n",
            "Val Loss: 0.2819 | Val Acc: 92.08%\n"
          ]
        },
        {
          "output_type": "stream",
          "name": "stderr",
          "text": [
            "Training: 100%|██████████| 313/313 [00:33<00:00,  9.30it/s]\n",
            "Evaluating: 100%|██████████| 79/79 [00:04<00:00, 18.59it/s]\n"
          ]
        },
        {
          "output_type": "stream",
          "name": "stdout",
          "text": [
            "Epoch: 72/100\n",
            "Train Loss: 0.0273 | Train Acc: 99.24%\n",
            "Val Loss: 0.2793 | Val Acc: 91.99%\n"
          ]
        },
        {
          "output_type": "stream",
          "name": "stderr",
          "text": [
            "Training: 100%|██████████| 313/313 [00:33<00:00,  9.27it/s]\n",
            "Evaluating: 100%|██████████| 79/79 [00:04<00:00, 16.75it/s]\n"
          ]
        },
        {
          "output_type": "stream",
          "name": "stdout",
          "text": [
            "Epoch: 73/100\n",
            "Train Loss: 0.0274 | Train Acc: 99.28%\n",
            "Val Loss: 0.2826 | Val Acc: 92.01%\n"
          ]
        },
        {
          "output_type": "stream",
          "name": "stderr",
          "text": [
            "Training: 100%|██████████| 313/313 [00:33<00:00,  9.24it/s]\n",
            "Evaluating: 100%|██████████| 79/79 [00:05<00:00, 14.09it/s]\n"
          ]
        },
        {
          "output_type": "stream",
          "name": "stdout",
          "text": [
            "Epoch: 74/100\n",
            "Train Loss: 0.0273 | Train Acc: 99.34%\n",
            "Val Loss: 0.2823 | Val Acc: 92.04%\n"
          ]
        },
        {
          "output_type": "stream",
          "name": "stderr",
          "text": [
            "Training: 100%|██████████| 313/313 [00:33<00:00,  9.35it/s]\n",
            "Evaluating: 100%|██████████| 79/79 [00:06<00:00, 11.63it/s]\n"
          ]
        },
        {
          "output_type": "stream",
          "name": "stdout",
          "text": [
            "Epoch: 75/100\n",
            "Train Loss: 0.0262 | Train Acc: 99.33%\n",
            "Val Loss: 0.2852 | Val Acc: 91.67%\n"
          ]
        },
        {
          "output_type": "stream",
          "name": "stderr",
          "text": [
            "Training: 100%|██████████| 313/313 [00:33<00:00,  9.43it/s]\n",
            "Evaluating: 100%|██████████| 79/79 [00:04<00:00, 18.01it/s]\n"
          ]
        },
        {
          "output_type": "stream",
          "name": "stdout",
          "text": [
            "Epoch: 76/100\n",
            "Train Loss: 0.0264 | Train Acc: 99.29%\n",
            "Val Loss: 0.2740 | Val Acc: 92.11%\n"
          ]
        },
        {
          "output_type": "stream",
          "name": "stderr",
          "text": [
            "Training: 100%|██████████| 313/313 [00:34<00:00,  9.10it/s]\n",
            "Evaluating: 100%|██████████| 79/79 [00:04<00:00, 18.94it/s]\n"
          ]
        },
        {
          "output_type": "stream",
          "name": "stdout",
          "text": [
            "Epoch: 77/100\n",
            "Train Loss: 0.0263 | Train Acc: 99.29%\n",
            "Val Loss: 0.2896 | Val Acc: 92.03%\n"
          ]
        },
        {
          "output_type": "stream",
          "name": "stderr",
          "text": [
            "Training: 100%|██████████| 313/313 [00:34<00:00,  9.14it/s]\n",
            "Evaluating: 100%|██████████| 79/79 [00:04<00:00, 18.91it/s]\n"
          ]
        },
        {
          "output_type": "stream",
          "name": "stdout",
          "text": [
            "Epoch: 78/100\n",
            "Train Loss: 0.0263 | Train Acc: 99.39%\n",
            "Val Loss: 0.2868 | Val Acc: 92.11%\n"
          ]
        },
        {
          "output_type": "stream",
          "name": "stderr",
          "text": [
            "Training: 100%|██████████| 313/313 [00:33<00:00,  9.24it/s]\n",
            "Evaluating: 100%|██████████| 79/79 [00:04<00:00, 18.16it/s]\n"
          ]
        },
        {
          "output_type": "stream",
          "name": "stdout",
          "text": [
            "Epoch: 79/100\n",
            "Train Loss: 0.0263 | Train Acc: 99.31%\n",
            "Val Loss: 0.2813 | Val Acc: 92.01%\n"
          ]
        },
        {
          "output_type": "stream",
          "name": "stderr",
          "text": [
            "Training: 100%|██████████| 313/313 [00:34<00:00,  9.02it/s]\n",
            "Evaluating: 100%|██████████| 79/79 [00:05<00:00, 15.59it/s]\n"
          ]
        },
        {
          "output_type": "stream",
          "name": "stdout",
          "text": [
            "Epoch: 80/100\n",
            "Train Loss: 0.0266 | Train Acc: 99.35%\n",
            "Val Loss: 0.2827 | Val Acc: 92.32%\n"
          ]
        },
        {
          "output_type": "stream",
          "name": "stderr",
          "text": [
            "Training: 100%|██████████| 313/313 [00:33<00:00,  9.35it/s]\n",
            "Evaluating: 100%|██████████| 79/79 [00:05<00:00, 13.42it/s]\n"
          ]
        },
        {
          "output_type": "stream",
          "name": "stdout",
          "text": [
            "Epoch: 81/100\n",
            "Train Loss: 0.0264 | Train Acc: 99.30%\n",
            "Val Loss: 0.2778 | Val Acc: 92.21%\n"
          ]
        },
        {
          "output_type": "stream",
          "name": "stderr",
          "text": [
            "Training: 100%|██████████| 313/313 [00:33<00:00,  9.29it/s]\n",
            "Evaluating: 100%|██████████| 79/79 [00:06<00:00, 11.78it/s]\n"
          ]
        },
        {
          "output_type": "stream",
          "name": "stdout",
          "text": [
            "Epoch: 82/100\n",
            "Train Loss: 0.0265 | Train Acc: 99.30%\n",
            "Val Loss: 0.2827 | Val Acc: 91.80%\n"
          ]
        },
        {
          "output_type": "stream",
          "name": "stderr",
          "text": [
            "Training: 100%|██████████| 313/313 [00:33<00:00,  9.41it/s]\n",
            "Evaluating: 100%|██████████| 79/79 [00:05<00:00, 13.28it/s]\n"
          ]
        },
        {
          "output_type": "stream",
          "name": "stdout",
          "text": [
            "Epoch: 83/100\n",
            "Train Loss: 0.0263 | Train Acc: 99.33%\n",
            "Val Loss: 0.2832 | Val Acc: 91.82%\n"
          ]
        },
        {
          "output_type": "stream",
          "name": "stderr",
          "text": [
            "Training: 100%|██████████| 313/313 [00:33<00:00,  9.25it/s]\n",
            "Evaluating: 100%|██████████| 79/79 [00:04<00:00, 18.81it/s]\n"
          ]
        },
        {
          "output_type": "stream",
          "name": "stdout",
          "text": [
            "Epoch: 84/100\n",
            "Train Loss: 0.0279 | Train Acc: 99.23%\n",
            "Val Loss: 0.2781 | Val Acc: 92.16%\n"
          ]
        },
        {
          "output_type": "stream",
          "name": "stderr",
          "text": [
            "Training: 100%|██████████| 313/313 [00:34<00:00,  9.20it/s]\n",
            "Evaluating: 100%|██████████| 79/79 [00:04<00:00, 19.06it/s]\n"
          ]
        },
        {
          "output_type": "stream",
          "name": "stdout",
          "text": [
            "Epoch: 85/100\n",
            "Train Loss: 0.0268 | Train Acc: 99.31%\n",
            "Val Loss: 0.2771 | Val Acc: 92.12%\n"
          ]
        },
        {
          "output_type": "stream",
          "name": "stderr",
          "text": [
            "Training: 100%|██████████| 313/313 [00:34<00:00,  9.14it/s]\n",
            "Evaluating: 100%|██████████| 79/79 [00:04<00:00, 18.22it/s]\n"
          ]
        },
        {
          "output_type": "stream",
          "name": "stdout",
          "text": [
            "Epoch: 86/100\n",
            "Train Loss: 0.0266 | Train Acc: 99.33%\n",
            "Val Loss: 0.2782 | Val Acc: 92.32%\n"
          ]
        },
        {
          "output_type": "stream",
          "name": "stderr",
          "text": [
            "Training: 100%|██████████| 313/313 [00:33<00:00,  9.24it/s]\n",
            "Evaluating: 100%|██████████| 79/79 [00:04<00:00, 18.86it/s]\n"
          ]
        },
        {
          "output_type": "stream",
          "name": "stdout",
          "text": [
            "Epoch: 87/100\n",
            "Train Loss: 0.0260 | Train Acc: 99.33%\n",
            "Val Loss: 0.2802 | Val Acc: 92.19%\n"
          ]
        },
        {
          "output_type": "stream",
          "name": "stderr",
          "text": [
            "Training: 100%|██████████| 313/313 [00:33<00:00,  9.31it/s]\n",
            "Evaluating: 100%|██████████| 79/79 [00:04<00:00, 18.90it/s]\n"
          ]
        },
        {
          "output_type": "stream",
          "name": "stdout",
          "text": [
            "Epoch: 88/100\n",
            "Train Loss: 0.0261 | Train Acc: 99.38%\n",
            "Val Loss: 0.2867 | Val Acc: 91.79%\n"
          ]
        },
        {
          "output_type": "stream",
          "name": "stderr",
          "text": [
            "Training: 100%|██████████| 313/313 [00:34<00:00,  9.19it/s]\n",
            "Evaluating: 100%|██████████| 79/79 [00:05<00:00, 14.88it/s]\n"
          ]
        },
        {
          "output_type": "stream",
          "name": "stdout",
          "text": [
            "Epoch: 89/100\n",
            "Train Loss: 0.0271 | Train Acc: 99.26%\n",
            "Val Loss: 0.2867 | Val Acc: 92.21%\n"
          ]
        },
        {
          "output_type": "stream",
          "name": "stderr",
          "text": [
            "Training: 100%|██████████| 313/313 [00:33<00:00,  9.26it/s]\n",
            "Evaluating: 100%|██████████| 79/79 [00:06<00:00, 12.17it/s]\n"
          ]
        },
        {
          "output_type": "stream",
          "name": "stdout",
          "text": [
            "Epoch: 90/100\n",
            "Train Loss: 0.0265 | Train Acc: 99.30%\n",
            "Val Loss: 0.2829 | Val Acc: 92.09%\n"
          ]
        },
        {
          "output_type": "stream",
          "name": "stderr",
          "text": [
            "Training: 100%|██████████| 313/313 [00:32<00:00,  9.65it/s]\n",
            "Evaluating: 100%|██████████| 79/79 [00:05<00:00, 13.19it/s]\n"
          ]
        },
        {
          "output_type": "stream",
          "name": "stdout",
          "text": [
            "Epoch: 91/100\n",
            "Train Loss: 0.0267 | Train Acc: 99.30%\n",
            "Val Loss: 0.2814 | Val Acc: 92.15%\n"
          ]
        },
        {
          "output_type": "stream",
          "name": "stderr",
          "text": [
            "Training: 100%|██████████| 313/313 [00:33<00:00,  9.32it/s]\n",
            "Evaluating: 100%|██████████| 79/79 [00:04<00:00, 17.65it/s]\n"
          ]
        },
        {
          "output_type": "stream",
          "name": "stdout",
          "text": [
            "Epoch: 92/100\n",
            "Train Loss: 0.0277 | Train Acc: 99.26%\n",
            "Val Loss: 0.2797 | Val Acc: 92.04%\n"
          ]
        },
        {
          "output_type": "stream",
          "name": "stderr",
          "text": [
            "Training: 100%|██████████| 313/313 [00:34<00:00,  9.12it/s]\n",
            "Evaluating: 100%|██████████| 79/79 [00:04<00:00, 19.10it/s]\n"
          ]
        },
        {
          "output_type": "stream",
          "name": "stdout",
          "text": [
            "Epoch: 93/100\n",
            "Train Loss: 0.0281 | Train Acc: 99.21%\n",
            "Val Loss: 0.2817 | Val Acc: 91.96%\n"
          ]
        },
        {
          "output_type": "stream",
          "name": "stderr",
          "text": [
            "Training: 100%|██████████| 313/313 [00:33<00:00,  9.21it/s]\n",
            "Evaluating: 100%|██████████| 79/79 [00:04<00:00, 18.77it/s]\n"
          ]
        },
        {
          "output_type": "stream",
          "name": "stdout",
          "text": [
            "Epoch: 94/100\n",
            "Train Loss: 0.0279 | Train Acc: 99.25%\n",
            "Val Loss: 0.2855 | Val Acc: 92.41%\n"
          ]
        },
        {
          "output_type": "stream",
          "name": "stderr",
          "text": [
            "Training: 100%|██████████| 313/313 [00:34<00:00,  9.19it/s]\n",
            "Evaluating: 100%|██████████| 79/79 [00:04<00:00, 19.07it/s]\n"
          ]
        },
        {
          "output_type": "stream",
          "name": "stdout",
          "text": [
            "Epoch: 95/100\n",
            "Train Loss: 0.0259 | Train Acc: 99.37%\n",
            "Val Loss: 0.2896 | Val Acc: 91.81%\n"
          ]
        },
        {
          "output_type": "stream",
          "name": "stderr",
          "text": [
            "Training: 100%|██████████| 313/313 [00:33<00:00,  9.21it/s]\n",
            "Evaluating: 100%|██████████| 79/79 [00:04<00:00, 17.84it/s]\n"
          ]
        },
        {
          "output_type": "stream",
          "name": "stdout",
          "text": [
            "Epoch: 96/100\n",
            "Train Loss: 0.0276 | Train Acc: 99.30%\n",
            "Val Loss: 0.2860 | Val Acc: 92.10%\n"
          ]
        },
        {
          "output_type": "stream",
          "name": "stderr",
          "text": [
            "Training: 100%|██████████| 313/313 [00:34<00:00,  9.16it/s]\n",
            "Evaluating: 100%|██████████| 79/79 [00:05<00:00, 15.50it/s]\n"
          ]
        },
        {
          "output_type": "stream",
          "name": "stdout",
          "text": [
            "Epoch: 97/100\n",
            "Train Loss: 0.0273 | Train Acc: 99.32%\n",
            "Val Loss: 0.2819 | Val Acc: 92.13%\n"
          ]
        },
        {
          "output_type": "stream",
          "name": "stderr",
          "text": [
            "Training: 100%|██████████| 313/313 [00:34<00:00,  9.16it/s]\n",
            "Evaluating: 100%|██████████| 79/79 [00:06<00:00, 12.46it/s]\n"
          ]
        },
        {
          "output_type": "stream",
          "name": "stdout",
          "text": [
            "Epoch: 98/100\n",
            "Train Loss: 0.0279 | Train Acc: 99.28%\n",
            "Val Loss: 0.2923 | Val Acc: 91.85%\n"
          ]
        },
        {
          "output_type": "stream",
          "name": "stderr",
          "text": [
            "Training: 100%|██████████| 313/313 [00:33<00:00,  9.32it/s]\n",
            "Evaluating: 100%|██████████| 79/79 [00:06<00:00, 12.95it/s]\n"
          ]
        },
        {
          "output_type": "stream",
          "name": "stdout",
          "text": [
            "Epoch: 99/100\n",
            "Train Loss: 0.0273 | Train Acc: 99.28%\n",
            "Val Loss: 0.2936 | Val Acc: 91.79%\n"
          ]
        },
        {
          "output_type": "stream",
          "name": "stderr",
          "text": [
            "Training: 100%|██████████| 313/313 [00:33<00:00,  9.28it/s]\n",
            "Evaluating: 100%|██████████| 79/79 [00:04<00:00, 18.20it/s]\n",
            "<ipython-input-37-247f6753c09b>:45: FutureWarning: You are using `torch.load` with `weights_only=False` (the current default value), which uses the default pickle module implicitly. It is possible to construct malicious pickle data which will execute arbitrary code during unpickling (See https://github.com/pytorch/pytorch/blob/main/SECURITY.md#untrusted-models for more details). In a future release, the default value for `weights_only` will be flipped to `True`. This limits the functions that could be executed during unpickling. Arbitrary objects will no longer be allowed to be loaded via this mode unless they are explicitly allowlisted by the user via `torch.serialization.add_safe_globals`. We recommend you start setting `weights_only=True` for any use case where you don't have full control of the loaded file. Please open an issue on GitHub for any issues related to this experimental feature.\n",
            "  model.load_state_dict(torch.load('best_model.pth'))\n"
          ]
        },
        {
          "output_type": "stream",
          "name": "stdout",
          "text": [
            "Epoch: 100/100\n",
            "Train Loss: 0.0274 | Train Acc: 99.28%\n",
            "Val Loss: 0.2858 | Val Acc: 91.76%\n"
          ]
        },
        {
          "output_type": "stream",
          "name": "stderr",
          "text": [
            "Evaluating: 100%|██████████| 79/79 [00:03<00:00, 25.92it/s]"
          ]
        },
        {
          "output_type": "stream",
          "name": "stdout",
          "text": [
            "Test Loss: 0.3162 | Test Acc: 91.73%\n"
          ]
        },
        {
          "output_type": "stream",
          "name": "stderr",
          "text": [
            "\n"
          ]
        },
        {
          "output_type": "display_data",
          "data": {
            "text/plain": [
              "<IPython.core.display.HTML object>"
            ],
            "text/html": []
          },
          "metadata": {}
        },
        {
          "output_type": "display_data",
          "data": {
            "text/plain": [
              "<IPython.core.display.HTML object>"
            ],
            "text/html": [
              "<br>    <style><br>        .wandb-row {<br>            display: flex;<br>            flex-direction: row;<br>            flex-wrap: wrap;<br>            justify-content: flex-start;<br>            width: 100%;<br>        }<br>        .wandb-col {<br>            display: flex;<br>            flex-direction: column;<br>            flex-basis: 100%;<br>            flex: 1;<br>            padding: 10px;<br>        }<br>    </style><br><div class=\"wandb-row\"><div class=\"wandb-col\"><h3>Run history:</h3><br/><table class=\"wandb\"><tr><td>epoch</td><td>▁▁▁▂▂▂▂▃▁▁▁▁▁▂▂▃▃▃▃▃▄▄▄▄▅▅▅▅▅▅▆▆▆▆▇▇▇▇▇█</td></tr><tr><td>test_acc</td><td>▁</td></tr><tr><td>train_acc</td><td>▃▄▅▆▇▇▇▇▁▅▇▇▇▇▇█████████████████████████</td></tr><tr><td>train_loss</td><td>█▆▅▃▃▂▂▂▂▂▁▆▅▃▃▂▁▁▁▁▁▁▁▁▁▁▁▁▁▁▁▁▁▁▁▁▁▁▁▁</td></tr><tr><td>val_acc</td><td>▂▂▅▅▆▇▆▇▇▇▁▄▅▆▆▇████████████████████████</td></tr><tr><td>val_loss</td><td>▆█▄▄▄▃▂▃▃▂▂▂▆▄▄▃▃▃▃▂▁▁▁▁▁▁▁▁▁▁▁▁▁▁▁▁▁▁▁▁</td></tr></table><br/></div><div class=\"wandb-col\"><h3>Run summary:</h3><br/><table class=\"wandb\"><tr><td>epoch</td><td>99</td></tr><tr><td>test_acc</td><td>91.73</td></tr><tr><td>train_acc</td><td>99.2775</td></tr><tr><td>train_loss</td><td>0.0274</td></tr><tr><td>val_acc</td><td>91.76</td></tr><tr><td>val_loss</td><td>0.28579</td></tr></table><br/></div></div>"
            ]
          },
          "metadata": {}
        },
        {
          "output_type": "display_data",
          "data": {
            "text/plain": [
              "<IPython.core.display.HTML object>"
            ],
            "text/html": [
              " View run <strong style=\"color:#cdcd00\">DenseNet201_100epochs</strong> at: <a href='https://wandb.ai/chaithanyakadiyala777-indiatimes/cifar10-densenet201/runs/sdgzojqm' target=\"_blank\">https://wandb.ai/chaithanyakadiyala777-indiatimes/cifar10-densenet201/runs/sdgzojqm</a><br> View project at: <a href='https://wandb.ai/chaithanyakadiyala777-indiatimes/cifar10-densenet201' target=\"_blank\">https://wandb.ai/chaithanyakadiyala777-indiatimes/cifar10-densenet201</a><br>Synced 5 W&B file(s), 0 media file(s), 0 artifact file(s) and 0 other file(s)"
            ]
          },
          "metadata": {}
        },
        {
          "output_type": "display_data",
          "data": {
            "text/plain": [
              "<IPython.core.display.HTML object>"
            ],
            "text/html": [
              "Find logs at: <code>./wandb/run-20250201_164832-sdgzojqm/logs</code>"
            ]
          },
          "metadata": {}
        }
      ]
    },
    {
      "cell_type": "markdown",
      "source": [],
      "metadata": {
        "id": "crLKFUJRch7e"
      }
    },
    {
      "cell_type": "code",
      "source": [],
      "metadata": {
        "id": "UOkzp_1YasIy"
      },
      "execution_count": null,
      "outputs": []
    },
    {
      "cell_type": "code",
      "source": [
        "import wandb\n",
        "import torch\n",
        "import torch.optim as optim\n",
        "import torch.nn as nn\n",
        "from torch.utils.data import DataLoader\n",
        "import torchvision\n",
        "import torchvision.transforms as transforms\n",
        "from torch import nn, optim\n",
        "\n",
        "# Data augmentation and normalization\n",
        "transform_train = transforms.Compose([\n",
        "    transforms.RandomCrop(32, padding=4),\n",
        "    transforms.RandomHorizontalFlip(),\n",
        "    transforms.ToTensor(),\n",
        "    transforms.Normalize((0.4914, 0.4822, 0.4465), (0.2023, 0.1994, 0.2010))\n",
        "])\n",
        "\n",
        "transform_test = transforms.Compose([\n",
        "    transforms.ToTensor(),\n",
        "    transforms.Normalize((0.4914, 0.4822, 0.4465), (0.2023, 0.1994, 0.2010))\n",
        "])\n",
        "\n",
        "# Residual Block Definition\n",
        "class ResidualBlock(nn.Module):\n",
        "    def __init__(self, in_channels, out_channels, stride=1):\n",
        "        super(ResidualBlock, self).__init__()\n",
        "        self.conv1 = nn.Conv2d(in_channels, out_channels, kernel_size=3,\n",
        "                              stride=stride, padding=1, bias=False)\n",
        "        self.bn1 = nn.BatchNorm2d(out_channels)\n",
        "        self.conv2 = nn.Conv2d(out_channels, out_channels, kernel_size=3,\n",
        "                              stride=1, padding=1, bias=False)\n",
        "        self.bn2 = nn.BatchNorm2d(out_channels)\n",
        "\n",
        "        self.shortcut = nn.Sequential()\n",
        "        if stride != 1 or in_channels != out_channels:\n",
        "            self.shortcut = nn.Sequential(\n",
        "                nn.Conv2d(in_channels, out_channels, kernel_size=1,\n",
        "                         stride=stride, bias=False),\n",
        "                nn.BatchNorm2d(out_channels)\n",
        "            )\n",
        "\n",
        "    def forward(self, x):\n",
        "        out = torch.relu(self.bn1(self.conv1(x)))\n",
        "        out = self.bn2(self.conv2(out))\n",
        "        out += self.shortcut(x)\n",
        "        out = torch.relu(out)\n",
        "        return out\n",
        "\n",
        "# CIFAR10CNN Model with Residual Blocks\n",
        "class CIFAR10CNN(nn.Module):\n",
        "    def __init__(self, num_classes=10):\n",
        "        super(CIFAR10CNN, self).__init__()\n",
        "        self.in_channels = 64\n",
        "\n",
        "        self.conv1 = nn.Conv2d(3, 64, kernel_size=3, stride=1, padding=1, bias=False)\n",
        "        self.bn1 = nn.BatchNorm2d(64)\n",
        "\n",
        "        self.layer1 = self.make_layer(64, 2, stride=1)\n",
        "        self.layer2 = self.make_layer(128, 2, stride=2)\n",
        "        self.layer3 = self.make_layer(256, 2, stride=2)\n",
        "\n",
        "        self.avg_pool = nn.AdaptiveAvgPool2d((1, 1))\n",
        "        self.fc = nn.Linear(256, num_classes)\n",
        "\n",
        "    def make_layer(self, out_channels, num_blocks, stride):\n",
        "        strides = [stride] + [1]*(num_blocks-1)\n",
        "        layers = []\n",
        "        for stride in strides:\n",
        "            layers.append(ResidualBlock(self.in_channels, out_channels, stride))\n",
        "            self.in_channels = out_channels\n",
        "        return nn.Sequential(*layers)\n",
        "\n",
        "    def forward(self, x):\n",
        "        out = torch.relu(self.bn1(self.conv1(x)))\n",
        "        out = self.layer1(out)\n",
        "        out = self.layer2(out)\n",
        "        out = self.layer3(out)\n",
        "        out = self.avg_pool(out)\n",
        "        out = out.view(out.size(0), -1)\n",
        "        out = self.fc(out)\n",
        "        return out\n",
        "\n",
        "# Training and evaluation functions\n",
        "def train_epoch(model, train_loader, criterion, optimizer, device):\n",
        "    model.train()\n",
        "    running_loss = 0.0\n",
        "    correct = 0\n",
        "    total = 0\n",
        "\n",
        "    for inputs, labels in train_loader:\n",
        "        inputs, labels = inputs.to(device), labels.to(device)\n",
        "\n",
        "        optimizer.zero_grad()\n",
        "        outputs = model(inputs)\n",
        "        loss = criterion(outputs, labels)\n",
        "        loss.backward()\n",
        "        optimizer.step()\n",
        "\n",
        "        running_loss += loss.item()\n",
        "\n",
        "        _, predicted = torch.max(outputs, 1)\n",
        "        total += labels.size(0)\n",
        "        correct += (predicted == labels).sum().item()\n",
        "\n",
        "    epoch_loss = running_loss / len(train_loader)\n",
        "    epoch_acc = 100 * correct / total\n",
        "    return epoch_loss, epoch_acc\n",
        "\n",
        "def evaluate(model, val_loader, criterion, device):\n",
        "    model.eval()\n",
        "    running_loss = 0.0\n",
        "    correct = 0\n",
        "    total = 0\n",
        "\n",
        "    with torch.no_grad():\n",
        "        for inputs, labels in val_loader:\n",
        "            inputs, labels = inputs.to(device), labels.to(device)\n",
        "\n",
        "            outputs = model(inputs)\n",
        "            loss = criterion(outputs, labels)\n",
        "\n",
        "            running_loss += loss.item()\n",
        "\n",
        "            _, predicted = torch.max(outputs, 1)\n",
        "            total += labels.size(0)\n",
        "            correct += (predicted == labels).sum().item()\n",
        "\n",
        "    epoch_loss = running_loss / len(val_loader)\n",
        "    epoch_acc = 100 * correct / total\n",
        "    return epoch_loss, epoch_acc\n",
        "\n",
        "# Load CIFAR-10 dataset with data augmentation\n",
        "def load_data(batch_size=128):\n",
        "    train_dataset = torchvision.datasets.CIFAR10(root='./data', train=True, download=True, transform=transform_train)\n",
        "    test_dataset = torchvision.datasets.CIFAR10(root='./data', train=False, download=True, transform=transform_test)\n",
        "\n",
        "    train_loader = DataLoader(train_dataset, batch_size=batch_size, shuffle=True)\n",
        "    val_loader = DataLoader(train_dataset, batch_size=batch_size, shuffle=False)\n",
        "    test_loader = DataLoader(test_dataset, batch_size=batch_size, shuffle=False)\n",
        "\n",
        "    return train_loader, val_loader, test_loader\n",
        "\n",
        "# Hyperparameters and device setup\n",
        "LEARNING_RATES = [0.001, 0.0005, 0.0001]\n",
        "OPTIMIZERS = ['adam', 'sgd']\n",
        "EPOCHS = 10\n",
        "NUM_CLASSES = 10  # CIFAR-10 has 10 classes\n",
        "\n",
        "device = torch.device(\"cuda\" if torch.cuda.is_available() else \"cpu\")\n",
        "\n",
        "# Experiment function\n",
        "def run_experiment(learning_rate, optimizer_name):\n",
        "    wandb.init(project=\"cifar10-cnn\",\n",
        "               name=f\"lr-{learning_rate}_opt-{optimizer_name}_batch-128\",\n",
        "               config={\n",
        "                   \"learning_rate\": learning_rate,\n",
        "                   \"optimizer\": optimizer_name,\n",
        "                   \"batch_size\": 128,\n",
        "                   \"epochs\": EPOCHS,\n",
        "                   \"num_classes\": NUM_CLASSES\n",
        "               })\n",
        "\n",
        "    # Load dataset with batch size 128\n",
        "    train_loader, val_loader, test_loader = load_data(batch_size=128)\n",
        "\n",
        "    # Initialize model, loss function, and optimizer\n",
        "    model = CIFAR10CNN(NUM_CLASSES).to(device)\n",
        "    wandb.watch(model, log=\"all\", log_freq=10)\n",
        "\n",
        "    criterion = nn.CrossEntropyLoss()\n",
        "\n",
        "    if optimizer_name == 'adam':\n",
        "        optimizer = optim.Adam(model.parameters(), lr=learning_rate)\n",
        "    elif optimizer_name == 'sgd':\n",
        "        optimizer = optim.SGD(model.parameters(), lr=learning_rate, momentum=0.9)\n",
        "\n",
        "    scheduler = optim.lr_scheduler.ReduceLROnPlateau(optimizer, mode='min', factor=0.1,\n",
        "                                                     patience=5, verbose=True)\n",
        "\n",
        "    best_val_acc = 0\n",
        "    for epoch in range(EPOCHS):\n",
        "        train_loss, train_acc = train_epoch(model, train_loader, criterion, optimizer, device)\n",
        "        val_loss, val_acc = evaluate(model, val_loader, criterion, device)\n",
        "\n",
        "        wandb.log({\n",
        "            'epoch': epoch,\n",
        "            'train_loss': train_loss,\n",
        "            'train_acc': train_acc,\n",
        "            'val_loss': val_loss,\n",
        "            'val_acc': val_acc\n",
        "        })\n",
        "\n",
        "        # Print progress\n",
        "        print(f'Epoch: {epoch+1}/{EPOCHS}')\n",
        "        print(f'Train Loss: {train_loss:.4f} | Train Acc: {train_acc:.2f}%')\n",
        "        print(f'Val Loss: {val_loss:.4f} | Val Acc: {val_acc:.2f}%')\n",
        "\n",
        "        # Save best model\n",
        "        if val_acc > best_val_acc:\n",
        "            best_val_acc = val_acc\n",
        "            model_save_path = f'best_model_{wandb.run.name}.pth'\n",
        "            torch.save(model.state_dict(), model_save_path)\n",
        "\n",
        "            # Upload the model directly to W&B as an artifact\n",
        "            artifact = wandb.Artifact(\"best_model\", type=\"model\")\n",
        "            artifact.add_file(model_save_path)\n",
        "            wandb.log_artifact(artifact)\n",
        "\n",
        "        # Adjust learning rate\n",
        "        scheduler.step(val_loss)\n",
        "\n",
        "    # Load best model and evaluate on test set\n",
        "    model.load_state_dict(torch.load(f'best_model_{wandb.run.name}.pth'))\n",
        "    test_loss, test_acc = evaluate(model, test_loader, criterion, device)\n",
        "    print(f'Test Loss: {test_loss:.4f} | Test Acc: {test_acc:.2f}%')\n",
        "\n",
        "    wandb.log({'test_acc': test_acc})\n",
        "    wandb.finish()\n",
        "\n",
        "\n",
        "# Main function to run all experiments\n",
        "def main():\n",
        "    # First, log in to W&B (only needed once)\n",
        "    wandb.login(key=\"cc69bae954e1e13ab072d175549500283da08831\")  # Replace with your actual WandB API key\n",
        "\n",
        "    # Run experiments by varying learning rate and optimizer\n",
        "    for lr in LEARNING_RATES:\n",
        "        for optimizer_name in OPTIMIZERS:\n",
        "            run_experiment(lr, optimizer_name)\n",
        "\n",
        "if __name__ == '__main__':\n",
        "    main()\n"
      ],
      "metadata": {
        "id": "fQiboGLYbRwK",
        "colab": {
          "base_uri": "https://localhost:8080/",
          "height": 1000
        },
        "outputId": "a9d49bba-6590-4048-e780-8562f739605f"
      },
      "execution_count": 8,
      "outputs": [
        {
          "output_type": "stream",
          "name": "stderr",
          "text": [
            "\u001b[34m\u001b[1mwandb\u001b[0m: \u001b[33mWARNING\u001b[0m Calling wandb.login() after wandb.init() has no effect.\n"
          ]
        },
        {
          "output_type": "stream",
          "name": "stdout",
          "text": [
            "Files already downloaded and verified\n",
            "Files already downloaded and verified\n"
          ]
        },
        {
          "output_type": "stream",
          "name": "stderr",
          "text": [
            "/usr/local/lib/python3.11/dist-packages/torch/optim/lr_scheduler.py:62: UserWarning: The verbose parameter is deprecated. Please use get_last_lr() to access the learning rate.\n",
            "  warnings.warn(\n"
          ]
        },
        {
          "output_type": "stream",
          "name": "stdout",
          "text": [
            "Epoch: 1/10\n",
            "Train Loss: 1.4034 | Train Acc: 48.35%\n",
            "Val Loss: 1.0979 | Val Acc: 60.90%\n",
            "Epoch: 2/10\n",
            "Train Loss: 0.9325 | Train Acc: 66.94%\n",
            "Val Loss: 0.8336 | Val Acc: 70.65%\n",
            "Epoch: 3/10\n",
            "Train Loss: 0.7425 | Train Acc: 73.92%\n",
            "Val Loss: 0.7847 | Val Acc: 72.56%\n",
            "Epoch: 4/10\n",
            "Train Loss: 0.6216 | Train Acc: 78.28%\n",
            "Val Loss: 0.8119 | Val Acc: 72.14%\n",
            "Epoch: 5/10\n",
            "Train Loss: 0.5371 | Train Acc: 81.29%\n",
            "Val Loss: 0.5802 | Val Acc: 79.87%\n",
            "Epoch: 6/10\n",
            "Train Loss: 0.4757 | Train Acc: 83.55%\n",
            "Val Loss: 0.5092 | Val Acc: 82.24%\n",
            "Epoch: 7/10\n",
            "Train Loss: 0.4337 | Train Acc: 85.20%\n",
            "Val Loss: 0.4266 | Val Acc: 85.27%\n",
            "Epoch: 8/10\n",
            "Train Loss: 0.3867 | Train Acc: 86.65%\n",
            "Val Loss: 0.3545 | Val Acc: 87.60%\n",
            "Epoch: 9/10\n",
            "Train Loss: 0.3579 | Train Acc: 87.58%\n",
            "Val Loss: 0.3713 | Val Acc: 87.03%\n",
            "Epoch: 10/10\n",
            "Train Loss: 0.3318 | Train Acc: 88.44%\n",
            "Val Loss: 0.3048 | Val Acc: 89.42%\n"
          ]
        },
        {
          "output_type": "stream",
          "name": "stderr",
          "text": [
            "<ipython-input-8-a502604e1330>:213: FutureWarning: You are using `torch.load` with `weights_only=False` (the current default value), which uses the default pickle module implicitly. It is possible to construct malicious pickle data which will execute arbitrary code during unpickling (See https://github.com/pytorch/pytorch/blob/main/SECURITY.md#untrusted-models for more details). In a future release, the default value for `weights_only` will be flipped to `True`. This limits the functions that could be executed during unpickling. Arbitrary objects will no longer be allowed to be loaded via this mode unless they are explicitly allowlisted by the user via `torch.serialization.add_safe_globals`. We recommend you start setting `weights_only=True` for any use case where you don't have full control of the loaded file. Please open an issue on GitHub for any issues related to this experimental feature.\n",
            "  model.load_state_dict(torch.load(f'best_model_{wandb.run.name}.pth'))\n"
          ]
        },
        {
          "output_type": "stream",
          "name": "stdout",
          "text": [
            "Test Loss: 0.4178 | Test Acc: 86.34%\n"
          ]
        },
        {
          "output_type": "display_data",
          "data": {
            "text/plain": [
              "<IPython.core.display.HTML object>"
            ],
            "text/html": []
          },
          "metadata": {}
        },
        {
          "output_type": "display_data",
          "data": {
            "text/plain": [
              "<IPython.core.display.HTML object>"
            ],
            "text/html": [
              "<br>    <style><br>        .wandb-row {<br>            display: flex;<br>            flex-direction: row;<br>            flex-wrap: wrap;<br>            justify-content: flex-start;<br>            width: 100%;<br>        }<br>        .wandb-col {<br>            display: flex;<br>            flex-direction: column;<br>            flex-basis: 100%;<br>            flex: 1;<br>            padding: 10px;<br>        }<br>    </style><br><div class=\"wandb-row\"><div class=\"wandb-col\"><h3>Run history:</h3><br/><table class=\"wandb\"><tr><td>epoch</td><td>▁▁▂▃▃▄▅▆▆▇█</td></tr><tr><td>test_acc</td><td>▁</td></tr><tr><td>train_acc</td><td>▁▁▄▅▆▇▇▇███</td></tr><tr><td>train_loss</td><td>██▅▄▃▂▂▂▁▁▁</td></tr><tr><td>val_acc</td><td>▁▃▅▅▅▆▇▇███</td></tr><tr><td>val_loss</td><td>█▅▄▄▄▂▂▂▁▁▁</td></tr></table><br/></div><div class=\"wandb-col\"><h3>Run summary:</h3><br/><table class=\"wandb\"><tr><td>epoch</td><td>9</td></tr><tr><td>test_acc</td><td>86.34</td></tr><tr><td>train_acc</td><td>88.44</td></tr><tr><td>train_loss</td><td>0.33179</td></tr><tr><td>val_acc</td><td>89.416</td></tr><tr><td>val_loss</td><td>0.30476</td></tr></table><br/></div></div>"
            ]
          },
          "metadata": {}
        },
        {
          "output_type": "display_data",
          "data": {
            "text/plain": [
              "<IPython.core.display.HTML object>"
            ],
            "text/html": [
              " View run <strong style=\"color:#cdcd00\">lr-0.001_opt-adam_batch-32</strong> at: <a href='https://wandb.ai/chaithanyakadiyala777-indiatimes/cifar10-cnn/runs/5aao9jz8' target=\"_blank\">https://wandb.ai/chaithanyakadiyala777-indiatimes/cifar10-cnn/runs/5aao9jz8</a><br> View project at: <a href='https://wandb.ai/chaithanyakadiyala777-indiatimes/cifar10-cnn' target=\"_blank\">https://wandb.ai/chaithanyakadiyala777-indiatimes/cifar10-cnn</a><br>Synced 5 W&B file(s), 0 media file(s), 16 artifact file(s) and 0 other file(s)"
            ]
          },
          "metadata": {}
        },
        {
          "output_type": "display_data",
          "data": {
            "text/plain": [
              "<IPython.core.display.HTML object>"
            ],
            "text/html": [
              "Find logs at: <code>./wandb/run-20250202_043850-5aao9jz8/logs</code>"
            ]
          },
          "metadata": {}
        },
        {
          "output_type": "display_data",
          "data": {
            "text/plain": [
              "<IPython.core.display.HTML object>"
            ],
            "text/html": [
              "Tracking run with wandb version 0.19.5"
            ]
          },
          "metadata": {}
        },
        {
          "output_type": "display_data",
          "data": {
            "text/plain": [
              "<IPython.core.display.HTML object>"
            ],
            "text/html": [
              "Run data is saved locally in <code>/content/drive/MyDrive/wandb/run-20250202_045831-7cml48ec</code>"
            ]
          },
          "metadata": {}
        },
        {
          "output_type": "display_data",
          "data": {
            "text/plain": [
              "<IPython.core.display.HTML object>"
            ],
            "text/html": [
              "Syncing run <strong><a href='https://wandb.ai/chaithanyakadiyala777-indiatimes/cifar10-cnn/runs/7cml48ec' target=\"_blank\">lr-0.001_opt-sgd_batch-128</a></strong> to <a href='https://wandb.ai/chaithanyakadiyala777-indiatimes/cifar10-cnn' target=\"_blank\">Weights & Biases</a> (<a href='https://wandb.me/developer-guide' target=\"_blank\">docs</a>)<br>"
            ]
          },
          "metadata": {}
        },
        {
          "output_type": "display_data",
          "data": {
            "text/plain": [
              "<IPython.core.display.HTML object>"
            ],
            "text/html": [
              " View project at <a href='https://wandb.ai/chaithanyakadiyala777-indiatimes/cifar10-cnn' target=\"_blank\">https://wandb.ai/chaithanyakadiyala777-indiatimes/cifar10-cnn</a>"
            ]
          },
          "metadata": {}
        },
        {
          "output_type": "display_data",
          "data": {
            "text/plain": [
              "<IPython.core.display.HTML object>"
            ],
            "text/html": [
              " View run at <a href='https://wandb.ai/chaithanyakadiyala777-indiatimes/cifar10-cnn/runs/7cml48ec' target=\"_blank\">https://wandb.ai/chaithanyakadiyala777-indiatimes/cifar10-cnn/runs/7cml48ec</a>"
            ]
          },
          "metadata": {}
        },
        {
          "output_type": "stream",
          "name": "stdout",
          "text": [
            "Files already downloaded and verified\n",
            "Files already downloaded and verified\n",
            "Epoch: 1/10\n",
            "Train Loss: 1.6645 | Train Acc: 38.36%\n",
            "Val Loss: 1.4764 | Val Acc: 46.32%\n",
            "Epoch: 2/10\n",
            "Train Loss: 1.2778 | Train Acc: 53.62%\n",
            "Val Loss: 1.2522 | Val Acc: 54.09%\n",
            "Epoch: 3/10\n",
            "Train Loss: 1.0825 | Train Acc: 61.26%\n",
            "Val Loss: 1.1407 | Val Acc: 58.53%\n",
            "Epoch: 4/10\n",
            "Train Loss: 0.9548 | Train Acc: 65.94%\n",
            "Val Loss: 0.9218 | Val Acc: 67.10%\n",
            "Epoch: 5/10\n",
            "Train Loss: 0.8558 | Train Acc: 69.78%\n",
            "Val Loss: 0.8306 | Val Acc: 69.88%\n",
            "Epoch: 6/10\n",
            "Train Loss: 0.7716 | Train Acc: 72.83%\n",
            "Val Loss: 0.7409 | Val Acc: 74.02%\n",
            "Epoch: 7/10\n",
            "Train Loss: 0.6998 | Train Acc: 75.53%\n",
            "Val Loss: 0.7079 | Val Acc: 75.28%\n",
            "Epoch: 8/10\n",
            "Train Loss: 0.6456 | Train Acc: 77.54%\n",
            "Val Loss: 0.7219 | Val Acc: 74.64%\n",
            "Epoch: 9/10\n",
            "Train Loss: 0.6012 | Train Acc: 79.05%\n",
            "Val Loss: 0.6128 | Val Acc: 78.72%\n",
            "Epoch: 10/10\n",
            "Train Loss: 0.5595 | Train Acc: 80.65%\n",
            "Val Loss: 0.7023 | Val Acc: 76.00%\n",
            "Test Loss: 0.7009 | Test Acc: 76.61%\n"
          ]
        },
        {
          "output_type": "display_data",
          "data": {
            "text/plain": [
              "<IPython.core.display.HTML object>"
            ],
            "text/html": []
          },
          "metadata": {}
        },
        {
          "output_type": "display_data",
          "data": {
            "text/plain": [
              "<IPython.core.display.HTML object>"
            ],
            "text/html": [
              "<br>    <style><br>        .wandb-row {<br>            display: flex;<br>            flex-direction: row;<br>            flex-wrap: wrap;<br>            justify-content: flex-start;<br>            width: 100%;<br>        }<br>        .wandb-col {<br>            display: flex;<br>            flex-direction: column;<br>            flex-basis: 100%;<br>            flex: 1;<br>            padding: 10px;<br>        }<br>    </style><br><div class=\"wandb-row\"><div class=\"wandb-col\"><h3>Run history:</h3><br/><table class=\"wandb\"><tr><td>epoch</td><td>▁▂▃▃▄▅▆▆▇█</td></tr><tr><td>test_acc</td><td>▁</td></tr><tr><td>train_acc</td><td>▁▄▅▆▆▇▇▇██</td></tr><tr><td>train_loss</td><td>█▆▄▄▃▂▂▂▁▁</td></tr><tr><td>val_acc</td><td>▁▃▄▅▆▇▇▇█▇</td></tr><tr><td>val_loss</td><td>█▆▅▄▃▂▂▂▁▂</td></tr></table><br/></div><div class=\"wandb-col\"><h3>Run summary:</h3><br/><table class=\"wandb\"><tr><td>epoch</td><td>9</td></tr><tr><td>test_acc</td><td>76.61</td></tr><tr><td>train_acc</td><td>80.65</td></tr><tr><td>train_loss</td><td>0.55951</td></tr><tr><td>val_acc</td><td>76.002</td></tr><tr><td>val_loss</td><td>0.70226</td></tr></table><br/></div></div>"
            ]
          },
          "metadata": {}
        },
        {
          "output_type": "display_data",
          "data": {
            "text/plain": [
              "<IPython.core.display.HTML object>"
            ],
            "text/html": [
              " View run <strong style=\"color:#cdcd00\">lr-0.001_opt-sgd_batch-128</strong> at: <a href='https://wandb.ai/chaithanyakadiyala777-indiatimes/cifar10-cnn/runs/7cml48ec' target=\"_blank\">https://wandb.ai/chaithanyakadiyala777-indiatimes/cifar10-cnn/runs/7cml48ec</a><br> View project at: <a href='https://wandb.ai/chaithanyakadiyala777-indiatimes/cifar10-cnn' target=\"_blank\">https://wandb.ai/chaithanyakadiyala777-indiatimes/cifar10-cnn</a><br>Synced 5 W&B file(s), 0 media file(s), 16 artifact file(s) and 0 other file(s)"
            ]
          },
          "metadata": {}
        },
        {
          "output_type": "display_data",
          "data": {
            "text/plain": [
              "<IPython.core.display.HTML object>"
            ],
            "text/html": [
              "Find logs at: <code>./wandb/run-20250202_045831-7cml48ec/logs</code>"
            ]
          },
          "metadata": {}
        },
        {
          "output_type": "display_data",
          "data": {
            "text/plain": [
              "<IPython.core.display.HTML object>"
            ],
            "text/html": [
              "Tracking run with wandb version 0.19.5"
            ]
          },
          "metadata": {}
        },
        {
          "output_type": "display_data",
          "data": {
            "text/plain": [
              "<IPython.core.display.HTML object>"
            ],
            "text/html": [
              "Run data is saved locally in <code>/content/drive/MyDrive/wandb/run-20250202_051221-nkm9ti22</code>"
            ]
          },
          "metadata": {}
        },
        {
          "output_type": "display_data",
          "data": {
            "text/plain": [
              "<IPython.core.display.HTML object>"
            ],
            "text/html": [
              "Syncing run <strong><a href='https://wandb.ai/chaithanyakadiyala777-indiatimes/cifar10-cnn/runs/nkm9ti22' target=\"_blank\">lr-0.0005_opt-adam_batch-128</a></strong> to <a href='https://wandb.ai/chaithanyakadiyala777-indiatimes/cifar10-cnn' target=\"_blank\">Weights & Biases</a> (<a href='https://wandb.me/developer-guide' target=\"_blank\">docs</a>)<br>"
            ]
          },
          "metadata": {}
        },
        {
          "output_type": "display_data",
          "data": {
            "text/plain": [
              "<IPython.core.display.HTML object>"
            ],
            "text/html": [
              " View project at <a href='https://wandb.ai/chaithanyakadiyala777-indiatimes/cifar10-cnn' target=\"_blank\">https://wandb.ai/chaithanyakadiyala777-indiatimes/cifar10-cnn</a>"
            ]
          },
          "metadata": {}
        },
        {
          "output_type": "display_data",
          "data": {
            "text/plain": [
              "<IPython.core.display.HTML object>"
            ],
            "text/html": [
              " View run at <a href='https://wandb.ai/chaithanyakadiyala777-indiatimes/cifar10-cnn/runs/nkm9ti22' target=\"_blank\">https://wandb.ai/chaithanyakadiyala777-indiatimes/cifar10-cnn/runs/nkm9ti22</a>"
            ]
          },
          "metadata": {}
        },
        {
          "output_type": "stream",
          "name": "stdout",
          "text": [
            "Files already downloaded and verified\n",
            "Files already downloaded and verified\n",
            "Epoch: 1/10\n",
            "Train Loss: 1.3219 | Train Acc: 51.71%\n",
            "Val Loss: 1.2878 | Val Acc: 56.04%\n",
            "Epoch: 2/10\n",
            "Train Loss: 0.8838 | Train Acc: 68.51%\n",
            "Val Loss: 0.9212 | Val Acc: 67.77%\n",
            "Epoch: 3/10\n",
            "Train Loss: 0.7028 | Train Acc: 75.26%\n",
            "Val Loss: 0.7159 | Val Acc: 75.09%\n",
            "Epoch: 4/10\n",
            "Train Loss: 0.5994 | Train Acc: 79.39%\n",
            "Val Loss: 0.5389 | Val Acc: 81.51%\n",
            "Epoch: 5/10\n",
            "Train Loss: 0.5207 | Train Acc: 82.13%\n",
            "Val Loss: 0.5189 | Val Acc: 82.23%\n",
            "Epoch: 6/10\n",
            "Train Loss: 0.4695 | Train Acc: 83.67%\n",
            "Val Loss: 0.5051 | Val Acc: 82.64%\n",
            "Epoch: 7/10\n",
            "Train Loss: 0.4238 | Train Acc: 85.30%\n",
            "Val Loss: 0.4436 | Val Acc: 84.37%\n",
            "Epoch: 8/10\n",
            "Train Loss: 0.3898 | Train Acc: 86.45%\n",
            "Val Loss: 0.3867 | Val Acc: 86.73%\n",
            "Epoch: 9/10\n",
            "Train Loss: 0.3538 | Train Acc: 87.76%\n",
            "Val Loss: 0.3697 | Val Acc: 87.03%\n",
            "Epoch: 10/10\n",
            "Train Loss: 0.3330 | Train Acc: 88.49%\n",
            "Val Loss: 0.3331 | Val Acc: 88.44%\n",
            "Test Loss: 0.4463 | Test Acc: 85.52%\n"
          ]
        },
        {
          "output_type": "display_data",
          "data": {
            "text/plain": [
              "<IPython.core.display.HTML object>"
            ],
            "text/html": []
          },
          "metadata": {}
        },
        {
          "output_type": "display_data",
          "data": {
            "text/plain": [
              "<IPython.core.display.HTML object>"
            ],
            "text/html": [
              "<br>    <style><br>        .wandb-row {<br>            display: flex;<br>            flex-direction: row;<br>            flex-wrap: wrap;<br>            justify-content: flex-start;<br>            width: 100%;<br>        }<br>        .wandb-col {<br>            display: flex;<br>            flex-direction: column;<br>            flex-basis: 100%;<br>            flex: 1;<br>            padding: 10px;<br>        }<br>    </style><br><div class=\"wandb-row\"><div class=\"wandb-col\"><h3>Run history:</h3><br/><table class=\"wandb\"><tr><td>epoch</td><td>▁▂▃▃▄▅▆▆▇█</td></tr><tr><td>test_acc</td><td>▁</td></tr><tr><td>train_acc</td><td>▁▄▅▆▇▇▇███</td></tr><tr><td>train_loss</td><td>█▅▄▃▂▂▂▁▁▁</td></tr><tr><td>val_acc</td><td>▁▄▅▇▇▇▇███</td></tr><tr><td>val_loss</td><td>█▅▄▃▂▂▂▁▁▁</td></tr></table><br/></div><div class=\"wandb-col\"><h3>Run summary:</h3><br/><table class=\"wandb\"><tr><td>epoch</td><td>9</td></tr><tr><td>test_acc</td><td>85.52</td></tr><tr><td>train_acc</td><td>88.486</td></tr><tr><td>train_loss</td><td>0.33295</td></tr><tr><td>val_acc</td><td>88.44</td></tr><tr><td>val_loss</td><td>0.33307</td></tr></table><br/></div></div>"
            ]
          },
          "metadata": {}
        },
        {
          "output_type": "display_data",
          "data": {
            "text/plain": [
              "<IPython.core.display.HTML object>"
            ],
            "text/html": [
              " View run <strong style=\"color:#cdcd00\">lr-0.0005_opt-adam_batch-128</strong> at: <a href='https://wandb.ai/chaithanyakadiyala777-indiatimes/cifar10-cnn/runs/nkm9ti22' target=\"_blank\">https://wandb.ai/chaithanyakadiyala777-indiatimes/cifar10-cnn/runs/nkm9ti22</a><br> View project at: <a href='https://wandb.ai/chaithanyakadiyala777-indiatimes/cifar10-cnn' target=\"_blank\">https://wandb.ai/chaithanyakadiyala777-indiatimes/cifar10-cnn</a><br>Synced 5 W&B file(s), 0 media file(s), 20 artifact file(s) and 0 other file(s)"
            ]
          },
          "metadata": {}
        },
        {
          "output_type": "display_data",
          "data": {
            "text/plain": [
              "<IPython.core.display.HTML object>"
            ],
            "text/html": [
              "Find logs at: <code>./wandb/run-20250202_051221-nkm9ti22/logs</code>"
            ]
          },
          "metadata": {}
        },
        {
          "output_type": "display_data",
          "data": {
            "text/plain": [
              "<IPython.core.display.HTML object>"
            ],
            "text/html": [
              "Tracking run with wandb version 0.19.5"
            ]
          },
          "metadata": {}
        },
        {
          "output_type": "display_data",
          "data": {
            "text/plain": [
              "<IPython.core.display.HTML object>"
            ],
            "text/html": [
              "Run data is saved locally in <code>/content/drive/MyDrive/wandb/run-20250202_052621-k222gy7c</code>"
            ]
          },
          "metadata": {}
        },
        {
          "output_type": "display_data",
          "data": {
            "text/plain": [
              "<IPython.core.display.HTML object>"
            ],
            "text/html": [
              "Syncing run <strong><a href='https://wandb.ai/chaithanyakadiyala777-indiatimes/cifar10-cnn/runs/k222gy7c' target=\"_blank\">lr-0.0005_opt-sgd_batch-128</a></strong> to <a href='https://wandb.ai/chaithanyakadiyala777-indiatimes/cifar10-cnn' target=\"_blank\">Weights & Biases</a> (<a href='https://wandb.me/developer-guide' target=\"_blank\">docs</a>)<br>"
            ]
          },
          "metadata": {}
        },
        {
          "output_type": "display_data",
          "data": {
            "text/plain": [
              "<IPython.core.display.HTML object>"
            ],
            "text/html": [
              " View project at <a href='https://wandb.ai/chaithanyakadiyala777-indiatimes/cifar10-cnn' target=\"_blank\">https://wandb.ai/chaithanyakadiyala777-indiatimes/cifar10-cnn</a>"
            ]
          },
          "metadata": {}
        },
        {
          "output_type": "display_data",
          "data": {
            "text/plain": [
              "<IPython.core.display.HTML object>"
            ],
            "text/html": [
              " View run at <a href='https://wandb.ai/chaithanyakadiyala777-indiatimes/cifar10-cnn/runs/k222gy7c' target=\"_blank\">https://wandb.ai/chaithanyakadiyala777-indiatimes/cifar10-cnn/runs/k222gy7c</a>"
            ]
          },
          "metadata": {}
        },
        {
          "output_type": "stream",
          "name": "stdout",
          "text": [
            "Files already downloaded and verified\n",
            "Files already downloaded and verified\n",
            "Epoch: 1/10\n",
            "Train Loss: 1.8126 | Train Acc: 32.84%\n",
            "Val Loss: 1.5537 | Val Acc: 42.82%\n",
            "Epoch: 2/10\n",
            "Train Loss: 1.4482 | Train Acc: 46.81%\n",
            "Val Loss: 1.4033 | Val Acc: 49.06%\n",
            "Epoch: 3/10\n",
            "Train Loss: 1.2631 | Train Acc: 54.21%\n",
            "Val Loss: 1.2021 | Val Acc: 56.95%\n",
            "Epoch: 4/10\n",
            "Train Loss: 1.1252 | Train Acc: 59.68%\n",
            "Val Loss: 1.1409 | Val Acc: 58.80%\n",
            "Epoch: 5/10\n",
            "Train Loss: 1.0217 | Train Acc: 63.52%\n",
            "Val Loss: 1.0205 | Val Acc: 63.87%\n",
            "Epoch: 7/10\n",
            "Train Loss: 0.8795 | Train Acc: 68.81%\n",
            "Val Loss: 0.8980 | Val Acc: 68.56%\n",
            "Epoch: 8/10\n",
            "Train Loss: 0.8235 | Train Acc: 70.97%\n",
            "Val Loss: 0.7902 | Val Acc: 72.11%\n",
            "Epoch: 9/10\n",
            "Train Loss: 0.7764 | Train Acc: 72.57%\n",
            "Val Loss: 0.7748 | Val Acc: 72.81%\n",
            "Epoch: 10/10\n",
            "Train Loss: 0.7321 | Train Acc: 74.40%\n",
            "Val Loss: 0.7356 | Val Acc: 74.03%\n",
            "Test Loss: 0.7921 | Test Acc: 72.35%\n"
          ]
        },
        {
          "output_type": "display_data",
          "data": {
            "text/plain": [
              "<IPython.core.display.HTML object>"
            ],
            "text/html": []
          },
          "metadata": {}
        },
        {
          "output_type": "display_data",
          "data": {
            "text/plain": [
              "<IPython.core.display.HTML object>"
            ],
            "text/html": [
              "<br>    <style><br>        .wandb-row {<br>            display: flex;<br>            flex-direction: row;<br>            flex-wrap: wrap;<br>            justify-content: flex-start;<br>            width: 100%;<br>        }<br>        .wandb-col {<br>            display: flex;<br>            flex-direction: column;<br>            flex-basis: 100%;<br>            flex: 1;<br>            padding: 10px;<br>        }<br>    </style><br><div class=\"wandb-row\"><div class=\"wandb-col\"><h3>Run history:</h3><br/><table class=\"wandb\"><tr><td>epoch</td><td>▁▂▃▃▄▅▆▆▇█</td></tr><tr><td>test_acc</td><td>▁</td></tr><tr><td>train_acc</td><td>▁▃▅▆▆▇▇▇██</td></tr><tr><td>train_loss</td><td>█▆▄▄▃▂▂▂▁▁</td></tr><tr><td>val_acc</td><td>▁▂▄▅▆▇▇███</td></tr><tr><td>val_loss</td><td>█▇▅▄▃▃▂▁▁▁</td></tr></table><br/></div><div class=\"wandb-col\"><h3>Run summary:</h3><br/><table class=\"wandb\"><tr><td>epoch</td><td>9</td></tr><tr><td>test_acc</td><td>72.35</td></tr><tr><td>train_acc</td><td>74.398</td></tr><tr><td>train_loss</td><td>0.73207</td></tr><tr><td>val_acc</td><td>74.032</td></tr><tr><td>val_loss</td><td>0.7356</td></tr></table><br/></div></div>"
            ]
          },
          "metadata": {}
        },
        {
          "output_type": "display_data",
          "data": {
            "text/plain": [
              "<IPython.core.display.HTML object>"
            ],
            "text/html": [
              " View run <strong style=\"color:#cdcd00\">lr-0.0005_opt-sgd_batch-128</strong> at: <a href='https://wandb.ai/chaithanyakadiyala777-indiatimes/cifar10-cnn/runs/k222gy7c' target=\"_blank\">https://wandb.ai/chaithanyakadiyala777-indiatimes/cifar10-cnn/runs/k222gy7c</a><br> View project at: <a href='https://wandb.ai/chaithanyakadiyala777-indiatimes/cifar10-cnn' target=\"_blank\">https://wandb.ai/chaithanyakadiyala777-indiatimes/cifar10-cnn</a><br>Synced 5 W&B file(s), 0 media file(s), 20 artifact file(s) and 0 other file(s)"
            ]
          },
          "metadata": {}
        },
        {
          "output_type": "display_data",
          "data": {
            "text/plain": [
              "<IPython.core.display.HTML object>"
            ],
            "text/html": [
              "Find logs at: <code>./wandb/run-20250202_052621-k222gy7c/logs</code>"
            ]
          },
          "metadata": {}
        },
        {
          "output_type": "display_data",
          "data": {
            "text/plain": [
              "<IPython.core.display.HTML object>"
            ],
            "text/html": [
              "Tracking run with wandb version 0.19.5"
            ]
          },
          "metadata": {}
        },
        {
          "output_type": "display_data",
          "data": {
            "text/plain": [
              "<IPython.core.display.HTML object>"
            ],
            "text/html": [
              "Run data is saved locally in <code>/content/drive/MyDrive/wandb/run-20250202_054010-22u9equz</code>"
            ]
          },
          "metadata": {}
        },
        {
          "output_type": "display_data",
          "data": {
            "text/plain": [
              "<IPython.core.display.HTML object>"
            ],
            "text/html": [
              "Syncing run <strong><a href='https://wandb.ai/chaithanyakadiyala777-indiatimes/cifar10-cnn/runs/22u9equz' target=\"_blank\">lr-0.0001_opt-adam_batch-128</a></strong> to <a href='https://wandb.ai/chaithanyakadiyala777-indiatimes/cifar10-cnn' target=\"_blank\">Weights & Biases</a> (<a href='https://wandb.me/developer-guide' target=\"_blank\">docs</a>)<br>"
            ]
          },
          "metadata": {}
        },
        {
          "output_type": "display_data",
          "data": {
            "text/plain": [
              "<IPython.core.display.HTML object>"
            ],
            "text/html": [
              " View project at <a href='https://wandb.ai/chaithanyakadiyala777-indiatimes/cifar10-cnn' target=\"_blank\">https://wandb.ai/chaithanyakadiyala777-indiatimes/cifar10-cnn</a>"
            ]
          },
          "metadata": {}
        },
        {
          "output_type": "display_data",
          "data": {
            "text/plain": [
              "<IPython.core.display.HTML object>"
            ],
            "text/html": [
              " View run at <a href='https://wandb.ai/chaithanyakadiyala777-indiatimes/cifar10-cnn/runs/22u9equz' target=\"_blank\">https://wandb.ai/chaithanyakadiyala777-indiatimes/cifar10-cnn/runs/22u9equz</a>"
            ]
          },
          "metadata": {}
        },
        {
          "output_type": "stream",
          "name": "stdout",
          "text": [
            "Files already downloaded and verified\n",
            "Files already downloaded and verified\n",
            "Epoch: 1/10\n",
            "Train Loss: 1.4173 | Train Acc: 48.12%\n",
            "Val Loss: 1.2082 | Val Acc: 57.04%\n",
            "Epoch: 2/10\n",
            "Train Loss: 1.0188 | Train Acc: 63.60%\n",
            "Val Loss: 0.9142 | Val Acc: 67.75%\n",
            "Epoch: 3/10\n",
            "Train Loss: 0.8333 | Train Acc: 70.57%\n",
            "Val Loss: 0.7837 | Val Acc: 72.56%\n",
            "Epoch: 4/10\n",
            "Train Loss: 0.7117 | Train Acc: 75.37%\n",
            "Val Loss: 0.7015 | Val Acc: 75.71%\n",
            "Epoch: 5/10\n",
            "Train Loss: 0.6322 | Train Acc: 78.24%\n",
            "Val Loss: 0.6102 | Val Acc: 78.95%\n",
            "Epoch: 6/10\n",
            "Train Loss: 0.5715 | Train Acc: 80.21%\n",
            "Val Loss: 0.5348 | Val Acc: 81.76%\n",
            "Epoch: 7/10\n",
            "Train Loss: 0.5207 | Train Acc: 82.16%\n",
            "Val Loss: 0.6236 | Val Acc: 78.32%\n",
            "Epoch: 8/10\n",
            "Train Loss: 0.4824 | Train Acc: 83.62%\n",
            "Val Loss: 0.4435 | Val Acc: 85.08%\n",
            "Epoch: 9/10\n",
            "Train Loss: 0.4434 | Train Acc: 84.72%\n",
            "Val Loss: 0.4948 | Val Acc: 82.55%\n",
            "Epoch: 10/10\n",
            "Train Loss: 0.4139 | Train Acc: 85.86%\n",
            "Val Loss: 0.4324 | Val Acc: 85.26%\n",
            "Test Loss: 0.5651 | Test Acc: 81.68%\n"
          ]
        },
        {
          "output_type": "display_data",
          "data": {
            "text/plain": [
              "<IPython.core.display.HTML object>"
            ],
            "text/html": []
          },
          "metadata": {}
        },
        {
          "output_type": "display_data",
          "data": {
            "text/plain": [
              "<IPython.core.display.HTML object>"
            ],
            "text/html": [
              "<br>    <style><br>        .wandb-row {<br>            display: flex;<br>            flex-direction: row;<br>            flex-wrap: wrap;<br>            justify-content: flex-start;<br>            width: 100%;<br>        }<br>        .wandb-col {<br>            display: flex;<br>            flex-direction: column;<br>            flex-basis: 100%;<br>            flex: 1;<br>            padding: 10px;<br>        }<br>    </style><br><div class=\"wandb-row\"><div class=\"wandb-col\"><h3>Run history:</h3><br/><table class=\"wandb\"><tr><td>epoch</td><td>▁▂▃▃▄▅▆▆▇█</td></tr><tr><td>test_acc</td><td>▁</td></tr><tr><td>train_acc</td><td>▁▄▅▆▇▇▇███</td></tr><tr><td>train_loss</td><td>█▅▄▃▃▂▂▁▁▁</td></tr><tr><td>val_acc</td><td>▁▄▅▆▆▇▆█▇█</td></tr><tr><td>val_loss</td><td>█▅▄▃▃▂▃▁▂▁</td></tr></table><br/></div><div class=\"wandb-col\"><h3>Run summary:</h3><br/><table class=\"wandb\"><tr><td>epoch</td><td>9</td></tr><tr><td>test_acc</td><td>81.68</td></tr><tr><td>train_acc</td><td>85.864</td></tr><tr><td>train_loss</td><td>0.41392</td></tr><tr><td>val_acc</td><td>85.258</td></tr><tr><td>val_loss</td><td>0.43238</td></tr></table><br/></div></div>"
            ]
          },
          "metadata": {}
        },
        {
          "output_type": "display_data",
          "data": {
            "text/plain": [
              "<IPython.core.display.HTML object>"
            ],
            "text/html": [
              " View run <strong style=\"color:#cdcd00\">lr-0.0001_opt-adam_batch-128</strong> at: <a href='https://wandb.ai/chaithanyakadiyala777-indiatimes/cifar10-cnn/runs/22u9equz' target=\"_blank\">https://wandb.ai/chaithanyakadiyala777-indiatimes/cifar10-cnn/runs/22u9equz</a><br> View project at: <a href='https://wandb.ai/chaithanyakadiyala777-indiatimes/cifar10-cnn' target=\"_blank\">https://wandb.ai/chaithanyakadiyala777-indiatimes/cifar10-cnn</a><br>Synced 5 W&B file(s), 0 media file(s), 16 artifact file(s) and 0 other file(s)"
            ]
          },
          "metadata": {}
        },
        {
          "output_type": "display_data",
          "data": {
            "text/plain": [
              "<IPython.core.display.HTML object>"
            ],
            "text/html": [
              "Find logs at: <code>./wandb/run-20250202_054010-22u9equz/logs</code>"
            ]
          },
          "metadata": {}
        },
        {
          "output_type": "display_data",
          "data": {
            "text/plain": [
              "<IPython.core.display.HTML object>"
            ],
            "text/html": [
              "Tracking run with wandb version 0.19.5"
            ]
          },
          "metadata": {}
        },
        {
          "output_type": "display_data",
          "data": {
            "text/plain": [
              "<IPython.core.display.HTML object>"
            ],
            "text/html": [
              "Run data is saved locally in <code>/content/drive/MyDrive/wandb/run-20250202_055350-92mjhv81</code>"
            ]
          },
          "metadata": {}
        },
        {
          "output_type": "display_data",
          "data": {
            "text/plain": [
              "<IPython.core.display.HTML object>"
            ],
            "text/html": [
              "Syncing run <strong><a href='https://wandb.ai/chaithanyakadiyala777-indiatimes/cifar10-cnn/runs/92mjhv81' target=\"_blank\">lr-0.0001_opt-sgd_batch-128</a></strong> to <a href='https://wandb.ai/chaithanyakadiyala777-indiatimes/cifar10-cnn' target=\"_blank\">Weights & Biases</a> (<a href='https://wandb.me/developer-guide' target=\"_blank\">docs</a>)<br>"
            ]
          },
          "metadata": {}
        },
        {
          "output_type": "display_data",
          "data": {
            "text/plain": [
              "<IPython.core.display.HTML object>"
            ],
            "text/html": [
              " View project at <a href='https://wandb.ai/chaithanyakadiyala777-indiatimes/cifar10-cnn' target=\"_blank\">https://wandb.ai/chaithanyakadiyala777-indiatimes/cifar10-cnn</a>"
            ]
          },
          "metadata": {}
        },
        {
          "output_type": "display_data",
          "data": {
            "text/plain": [
              "<IPython.core.display.HTML object>"
            ],
            "text/html": [
              " View run at <a href='https://wandb.ai/chaithanyakadiyala777-indiatimes/cifar10-cnn/runs/92mjhv81' target=\"_blank\">https://wandb.ai/chaithanyakadiyala777-indiatimes/cifar10-cnn/runs/92mjhv81</a>"
            ]
          },
          "metadata": {}
        },
        {
          "output_type": "stream",
          "name": "stdout",
          "text": [
            "Files already downloaded and verified\n",
            "Files already downloaded and verified\n",
            "Epoch: 1/10\n",
            "Train Loss: 2.0787 | Train Acc: 24.31%\n",
            "Val Loss: 1.8914 | Val Acc: 30.21%\n",
            "Epoch: 2/10\n",
            "Train Loss: 1.8220 | Train Acc: 33.24%\n",
            "Val Loss: 1.7519 | Val Acc: 36.16%\n",
            "Epoch: 3/10\n",
            "Train Loss: 1.7101 | Train Acc: 37.18%\n",
            "Val Loss: 1.6535 | Val Acc: 39.40%\n",
            "Epoch: 4/10\n",
            "Train Loss: 1.6228 | Train Acc: 40.50%\n",
            "Val Loss: 1.5832 | Val Acc: 42.21%\n",
            "Epoch: 5/10\n",
            "Train Loss: 1.5516 | Train Acc: 43.40%\n",
            "Val Loss: 1.5026 | Val Acc: 44.99%\n",
            "Epoch: 6/10\n",
            "Train Loss: 1.4808 | Train Acc: 46.06%\n",
            "Val Loss: 1.4528 | Val Acc: 47.27%\n",
            "Epoch: 7/10\n",
            "Train Loss: 1.4178 | Train Acc: 48.39%\n",
            "Val Loss: 1.3812 | Val Acc: 49.62%\n",
            "Epoch: 8/10\n",
            "Train Loss: 1.3556 | Train Acc: 51.32%\n",
            "Val Loss: 1.3673 | Val Acc: 50.63%\n",
            "Epoch: 9/10\n",
            "Train Loss: 1.3107 | Train Acc: 52.70%\n",
            "Val Loss: 1.2853 | Val Acc: 53.62%\n",
            "Epoch: 10/10\n",
            "Train Loss: 1.2709 | Train Acc: 54.19%\n",
            "Val Loss: 1.3294 | Val Acc: 52.20%\n",
            "Test Loss: 1.2945 | Test Acc: 53.52%\n"
          ]
        },
        {
          "output_type": "display_data",
          "data": {
            "text/plain": [
              "<IPython.core.display.HTML object>"
            ],
            "text/html": []
          },
          "metadata": {}
        },
        {
          "output_type": "display_data",
          "data": {
            "text/plain": [
              "<IPython.core.display.HTML object>"
            ],
            "text/html": [
              "<br>    <style><br>        .wandb-row {<br>            display: flex;<br>            flex-direction: row;<br>            flex-wrap: wrap;<br>            justify-content: flex-start;<br>            width: 100%;<br>        }<br>        .wandb-col {<br>            display: flex;<br>            flex-direction: column;<br>            flex-basis: 100%;<br>            flex: 1;<br>            padding: 10px;<br>        }<br>    </style><br><div class=\"wandb-row\"><div class=\"wandb-col\"><h3>Run history:</h3><br/><table class=\"wandb\"><tr><td>epoch</td><td>▁▂▃▃▄▅▆▆▇█</td></tr><tr><td>test_acc</td><td>▁</td></tr><tr><td>train_acc</td><td>▁▃▄▅▅▆▇▇██</td></tr><tr><td>train_loss</td><td>█▆▅▄▃▃▂▂▁▁</td></tr><tr><td>val_acc</td><td>▁▃▄▅▅▆▇▇██</td></tr><tr><td>val_loss</td><td>█▆▅▄▄▃▂▂▁▂</td></tr></table><br/></div><div class=\"wandb-col\"><h3>Run summary:</h3><br/><table class=\"wandb\"><tr><td>epoch</td><td>9</td></tr><tr><td>test_acc</td><td>53.52</td></tr><tr><td>train_acc</td><td>54.19</td></tr><tr><td>train_loss</td><td>1.27086</td></tr><tr><td>val_acc</td><td>52.202</td></tr><tr><td>val_loss</td><td>1.32937</td></tr></table><br/></div></div>"
            ]
          },
          "metadata": {}
        },
        {
          "output_type": "display_data",
          "data": {
            "text/plain": [
              "<IPython.core.display.HTML object>"
            ],
            "text/html": [
              " View run <strong style=\"color:#cdcd00\">lr-0.0001_opt-sgd_batch-128</strong> at: <a href='https://wandb.ai/chaithanyakadiyala777-indiatimes/cifar10-cnn/runs/92mjhv81' target=\"_blank\">https://wandb.ai/chaithanyakadiyala777-indiatimes/cifar10-cnn/runs/92mjhv81</a><br> View project at: <a href='https://wandb.ai/chaithanyakadiyala777-indiatimes/cifar10-cnn' target=\"_blank\">https://wandb.ai/chaithanyakadiyala777-indiatimes/cifar10-cnn</a><br>Synced 5 W&B file(s), 0 media file(s), 18 artifact file(s) and 0 other file(s)"
            ]
          },
          "metadata": {}
        },
        {
          "output_type": "display_data",
          "data": {
            "text/plain": [
              "<IPython.core.display.HTML object>"
            ],
            "text/html": [
              "Find logs at: <code>./wandb/run-20250202_055350-92mjhv81/logs</code>"
            ]
          },
          "metadata": {}
        }
      ]
    },
    {
      "cell_type": "code",
      "source": [],
      "metadata": {
        "id": "v6yp_Y8v9AwA"
      },
      "execution_count": null,
      "outputs": []
    }
  ]
}